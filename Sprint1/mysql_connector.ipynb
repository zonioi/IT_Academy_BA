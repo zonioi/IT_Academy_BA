{
 "cells": [
  {
   "cell_type": "code",
   "execution_count": 1,
   "id": "66b14387",
   "metadata": {},
   "outputs": [],
   "source": [
    "import mysql.connector\n",
    "from credentials import user, password"
   ]
  },
  {
   "cell_type": "code",
   "execution_count": 2,
   "id": "67a0e884",
   "metadata": {},
   "outputs": [],
   "source": [
    "mydb = mysql.connector.connect(\n",
    "  host=\"localhost\",\n",
    "  user=user,\n",
    "  password=password\n",
    ")"
   ]
  },
  {
   "cell_type": "code",
   "execution_count": 3,
   "id": "35e5b84f",
   "metadata": {},
   "outputs": [
    {
     "name": "stdout",
     "output_type": "stream",
     "text": [
      "<mysql.connector.connection_cext.CMySQLConnection object at 0x7f26244b4520>\n"
     ]
    }
   ],
   "source": [
    "print (mydb)"
   ]
  },
  {
   "cell_type": "code",
   "execution_count": 4,
   "id": "acd64be1",
   "metadata": {},
   "outputs": [],
   "source": [
    "mycursor = mydb.cursor()"
   ]
  },
  {
   "cell_type": "code",
   "execution_count": 5,
   "id": "9f612762",
   "metadata": {},
   "outputs": [],
   "source": [
    "mycursor.execute('SHOW DATABASES')"
   ]
  },
  {
   "cell_type": "code",
   "execution_count": 6,
   "id": "fe473821",
   "metadata": {},
   "outputs": [
    {
     "name": "stdout",
     "output_type": "stream",
     "text": [
      "('PETS',)\n",
      "('SGAE_Practica',)\n",
      "('information_schema',)\n",
      "('movies',)\n",
      "('mysql',)\n",
      "('performance_schema',)\n",
      "('sys',)\n"
     ]
    }
   ],
   "source": [
    "for x in mycursor:\n",
    "  print(x) "
   ]
  },
  {
   "cell_type": "code",
   "execution_count": 8,
   "id": "49d172ba",
   "metadata": {},
   "outputs": [],
   "source": [
    "mycursor.execute('USE PETS')"
   ]
  },
  {
   "cell_type": "code",
   "execution_count": 9,
   "id": "3ffc80f8",
   "metadata": {},
   "outputs": [
    {
     "name": "stdout",
     "output_type": "stream",
     "text": [
      "(1, 'Sandy', 'Lennon', datetime.date(2015, 1, 3))\n",
      "(2, 'Cookie', 'Casey', datetime.date(2013, 11, 13))\n",
      "(3, 'Charlie', 'River', datetime.date(2016, 5, 21))\n"
     ]
    }
   ],
   "source": [
    "mycursor.execute('SELECT * FROM cats')\n",
    "\n",
    "for x in mycursor:\n",
    "    print(x)"
   ]
  },
  {
   "cell_type": "code",
   "execution_count": 34,
   "id": "b72b7ed7",
   "metadata": {},
   "outputs": [],
   "source": [
    "# mydb = mysql.connector.connect(\n",
    "#   host=\"localhost\",\n",
    "#   user=user,\n",
    "#   password=password,\n",
    "#   database=\"PETS\"\n",
    "# )\n",
    "\n",
    "# mycursor = mydb.cursor()"
   ]
  },
  {
   "cell_type": "code",
   "execution_count": 45,
   "id": "c7b8d108",
   "metadata": {},
   "outputs": [],
   "source": [
    "# mycursor.execute(\"DROP TABLE dogs\")"
   ]
  },
  {
   "cell_type": "code",
   "execution_count": 46,
   "id": "8dd61aab",
   "metadata": {},
   "outputs": [],
   "source": [
    "mycursor.execute(\"CREATE TABLE dogs (id INT unsigned NOT NULL AUTO_INCREMENT,name VARCHAR(150) NOT NULL,owner VARCHAR (150) NOT NULL, birth DATE NOT NULL, PRIMARY KEY (id)) \")"
   ]
  },
  {
   "cell_type": "code",
   "execution_count": 54,
   "id": "c27b967f",
   "metadata": {},
   "outputs": [
    {
     "name": "stdout",
     "output_type": "stream",
     "text": [
      "('cats',)\n",
      "('dogs',)\n"
     ]
    }
   ],
   "source": [
    "mycursor.execute(\"SHOW TABLES\")\n",
    "\n",
    "for x in mycursor:\n",
    "  print(x) "
   ]
  },
  {
   "cell_type": "code",
   "execution_count": 48,
   "id": "a6a9e480",
   "metadata": {},
   "outputs": [
    {
     "name": "stdout",
     "output_type": "stream",
     "text": [
      "(1, 'Sandy', 'Lennon', datetime.date(2015, 1, 3))\n",
      "(2, 'Cookie', 'Casey', datetime.date(2013, 11, 13))\n",
      "(3, 'Charlie', 'River', datetime.date(2016, 5, 21))\n"
     ]
    }
   ],
   "source": [
    "mycursor.execute('SELECT * FROM cats')\n",
    "for x in mycursor:\n",
    "  print(x) "
   ]
  },
  {
   "cell_type": "code",
   "execution_count": 49,
   "id": "af8b692d",
   "metadata": {},
   "outputs": [
    {
     "name": "stdout",
     "output_type": "stream",
     "text": [
      "-7 was inserted.\n"
     ]
    }
   ],
   "source": [
    "mycursor = mydb.cursor(prepared=True)\n",
    "\n",
    "sql = \"INSERT INTO dogs (name, owner, birth) VALUES (%s,%s,%s)\"\n",
    "val = [\n",
    "  (\"Doggy\", \"Carla\", \"2015-01-15\"), \n",
    "  (\"Checo\", \"Gemma\", \"2013-02-18\"),\n",
    "  (\"Pluto\", \"Jordi\", \"2011-03-08\"),\n",
    "  (\"Cao\", \"Elias\", \"2019-04-03\"),\n",
    "  (\"Sucre\", \"Joan\", \"2014-05-21\"),\n",
    "  (\"Lady\", \"Enric\", \"2017-06-30\"),\n",
    "  (\"Jeremies\", \"Gerard\", \"2015-07-12\") \n",
    "]\n",
    "\n",
    "mycursor.executemany(sql, val)\n",
    "\n",
    "mydb.commit()\n",
    "\n",
    "print(mycursor.rowcount, \"was inserted.\") "
   ]
  },
  {
   "cell_type": "code",
   "execution_count": 50,
   "id": "96aa2b90",
   "metadata": {},
   "outputs": [
    {
     "name": "stdout",
     "output_type": "stream",
     "text": [
      "(1, 'Doggy', 'Carla', datetime.date(2015, 1, 15))\n",
      "(2, 'Checo', 'Gemma', datetime.date(2013, 2, 18))\n",
      "(3, 'Pluto', 'Jordi', datetime.date(2011, 3, 8))\n",
      "(4, 'Cao', 'Elias', datetime.date(2019, 4, 3))\n",
      "(5, 'Sucre', 'Joan', datetime.date(2014, 5, 21))\n",
      "(6, 'Lady', 'Enric', datetime.date(2017, 6, 30))\n",
      "(7, 'Jeremies', 'Gerard', datetime.date(2015, 7, 12))\n"
     ]
    }
   ],
   "source": [
    "mycursor = mydb.cursor()\n",
    "mycursor.execute('SELECT * FROM dogs')\n",
    "for x in mycursor:\n",
    "  print(x) "
   ]
  },
  {
   "cell_type": "code",
   "execution_count": 51,
   "id": "3cd125f8",
   "metadata": {},
   "outputs": [
    {
     "name": "stdout",
     "output_type": "stream",
     "text": [
      "(2, 'Checo', 'Gemma', datetime.date(2013, 2, 18))\n",
      "(4, 'Cao', 'Elias', datetime.date(2019, 4, 3))\n"
     ]
    }
   ],
   "source": [
    "sql = \"SELECT * FROM dogs WHERE name LIKE 'C%'\"\n",
    "\n",
    "mycursor.execute(sql)\n",
    "\n",
    "myresult = mycursor.fetchall()\n",
    "\n",
    "for x in myresult:\n",
    "  print(x)"
   ]
  },
  {
   "cell_type": "code",
   "execution_count": 52,
   "id": "a4713b70",
   "metadata": {},
   "outputs": [
    {
     "name": "stdout",
     "output_type": "stream",
     "text": [
      "1 record(s) affected\n"
     ]
    }
   ],
   "source": [
    "sql = \"UPDATE dogs SET name = 'Ciao' WHERE name = 'Cao'\"\n",
    "\n",
    "mycursor.execute(sql)\n",
    "\n",
    "mydb.commit()\n",
    "\n",
    "print(mycursor.rowcount, \"record(s) affected\") "
   ]
  },
  {
   "cell_type": "code",
   "execution_count": 53,
   "id": "461d9fc5",
   "metadata": {},
   "outputs": [
    {
     "name": "stdout",
     "output_type": "stream",
     "text": [
      "(2, 'Checo', 'Gemma', datetime.date(2013, 2, 18))\n",
      "(4, 'Ciao', 'Elias', datetime.date(2019, 4, 3))\n"
     ]
    }
   ],
   "source": [
    "sql = \"SELECT * FROM dogs WHERE name LIKE 'C%'\"\n",
    "\n",
    "mycursor.execute(sql)\n",
    "\n",
    "myresult = mycursor.fetchall()\n",
    "\n",
    "for x in myresult:\n",
    "  print(x)"
   ]
  },
  {
   "cell_type": "code",
   "execution_count": 7,
   "id": "6a85d106",
   "metadata": {},
   "outputs": [],
   "source": [
    "mycursor.execute('USE SGAE_Practica')"
   ]
  },
  {
   "cell_type": "code",
   "execution_count": 9,
   "id": "d6b51c3c",
   "metadata": {},
   "outputs": [],
   "source": [
    "mycursor.execute(\"SHOW TABLES\")\n",
    "\n",
    "for x in mycursor:\n",
    "  print(x) "
   ]
  },
  {
   "cell_type": "code",
   "execution_count": null,
   "id": "94818d42",
   "metadata": {},
   "outputs": [],
   "source": []
  }
 ],
 "metadata": {
  "kernelspec": {
   "display_name": "Python 3 (ipykernel)",
   "language": "python",
   "name": "python3"
  },
  "language_info": {
   "codemirror_mode": {
    "name": "ipython",
    "version": 3
   },
   "file_extension": ".py",
   "mimetype": "text/x-python",
   "name": "python",
   "nbconvert_exporter": "python",
   "pygments_lexer": "ipython3",
   "version": "3.9.7"
  }
 },
 "nbformat": 4,
 "nbformat_minor": 5
}
