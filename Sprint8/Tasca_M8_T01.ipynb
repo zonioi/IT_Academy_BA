{
 "cells": [
  {
   "cell_type": "markdown",
   "id": "057ec119",
   "metadata": {},
   "source": [
    "## Tasca M8 T01"
   ]
  },
  {
   "cell_type": "markdown",
   "id": "14b12be1",
   "metadata": {},
   "source": [
    "##### Exercici 1\n",
    "\n",
    "Descarrega el dataset adjunt, de registres de publicacions a Facebook sobre Tailàndia, i classifica els diferents registres utilitzant l'algorisme de K-means."
   ]
  },
  {
   "cell_type": "code",
   "execution_count": 1,
   "id": "cbb8a882",
   "metadata": {},
   "outputs": [],
   "source": [
    "# Importació llibreries bàsiques\n",
    "import pandas as pd\n",
    "import numpy as np\n",
    "import seaborn as sns\n",
    "import matplotlib.pyplot as plt\n",
    "\n",
    "import warnings\n",
    "warnings.filterwarnings(\"ignore\")"
   ]
  },
  {
   "cell_type": "markdown",
   "id": "9f1582b5",
   "metadata": {},
   "source": [
    "Primer de tot llegirem el dataset i preparem les dades"
   ]
  },
  {
   "cell_type": "code",
   "execution_count": 2,
   "id": "5b136253",
   "metadata": {},
   "outputs": [
    {
     "data": {
      "text/html": [
       "<div>\n",
       "<style scoped>\n",
       "    .dataframe tbody tr th:only-of-type {\n",
       "        vertical-align: middle;\n",
       "    }\n",
       "\n",
       "    .dataframe tbody tr th {\n",
       "        vertical-align: top;\n",
       "    }\n",
       "\n",
       "    .dataframe thead th {\n",
       "        text-align: right;\n",
       "    }\n",
       "</style>\n",
       "<table border=\"1\" class=\"dataframe\">\n",
       "  <thead>\n",
       "    <tr style=\"text-align: right;\">\n",
       "      <th></th>\n",
       "      <th>status_id</th>\n",
       "      <th>status_type</th>\n",
       "      <th>status_published</th>\n",
       "      <th>num_reactions</th>\n",
       "      <th>num_comments</th>\n",
       "      <th>num_shares</th>\n",
       "      <th>num_likes</th>\n",
       "      <th>num_loves</th>\n",
       "      <th>num_wows</th>\n",
       "      <th>num_hahas</th>\n",
       "      <th>num_sads</th>\n",
       "      <th>num_angrys</th>\n",
       "      <th>Column1</th>\n",
       "      <th>Column2</th>\n",
       "      <th>Column3</th>\n",
       "      <th>Column4</th>\n",
       "    </tr>\n",
       "  </thead>\n",
       "  <tbody>\n",
       "    <tr>\n",
       "      <th>0</th>\n",
       "      <td>246675545449582_1649696485147474</td>\n",
       "      <td>video</td>\n",
       "      <td>4/22/2018 6:00</td>\n",
       "      <td>529</td>\n",
       "      <td>512</td>\n",
       "      <td>262</td>\n",
       "      <td>432</td>\n",
       "      <td>92</td>\n",
       "      <td>3</td>\n",
       "      <td>1</td>\n",
       "      <td>1</td>\n",
       "      <td>0</td>\n",
       "      <td>NaN</td>\n",
       "      <td>NaN</td>\n",
       "      <td>NaN</td>\n",
       "      <td>NaN</td>\n",
       "    </tr>\n",
       "    <tr>\n",
       "      <th>1</th>\n",
       "      <td>246675545449582_1649426988507757</td>\n",
       "      <td>photo</td>\n",
       "      <td>4/21/2018 22:45</td>\n",
       "      <td>150</td>\n",
       "      <td>0</td>\n",
       "      <td>0</td>\n",
       "      <td>150</td>\n",
       "      <td>0</td>\n",
       "      <td>0</td>\n",
       "      <td>0</td>\n",
       "      <td>0</td>\n",
       "      <td>0</td>\n",
       "      <td>NaN</td>\n",
       "      <td>NaN</td>\n",
       "      <td>NaN</td>\n",
       "      <td>NaN</td>\n",
       "    </tr>\n",
       "    <tr>\n",
       "      <th>2</th>\n",
       "      <td>246675545449582_1648730588577397</td>\n",
       "      <td>video</td>\n",
       "      <td>4/21/2018 6:17</td>\n",
       "      <td>227</td>\n",
       "      <td>236</td>\n",
       "      <td>57</td>\n",
       "      <td>204</td>\n",
       "      <td>21</td>\n",
       "      <td>1</td>\n",
       "      <td>1</td>\n",
       "      <td>0</td>\n",
       "      <td>0</td>\n",
       "      <td>NaN</td>\n",
       "      <td>NaN</td>\n",
       "      <td>NaN</td>\n",
       "      <td>NaN</td>\n",
       "    </tr>\n",
       "    <tr>\n",
       "      <th>3</th>\n",
       "      <td>246675545449582_1648576705259452</td>\n",
       "      <td>photo</td>\n",
       "      <td>4/21/2018 2:29</td>\n",
       "      <td>111</td>\n",
       "      <td>0</td>\n",
       "      <td>0</td>\n",
       "      <td>111</td>\n",
       "      <td>0</td>\n",
       "      <td>0</td>\n",
       "      <td>0</td>\n",
       "      <td>0</td>\n",
       "      <td>0</td>\n",
       "      <td>NaN</td>\n",
       "      <td>NaN</td>\n",
       "      <td>NaN</td>\n",
       "      <td>NaN</td>\n",
       "    </tr>\n",
       "    <tr>\n",
       "      <th>4</th>\n",
       "      <td>246675545449582_1645700502213739</td>\n",
       "      <td>photo</td>\n",
       "      <td>4/18/2018 3:22</td>\n",
       "      <td>213</td>\n",
       "      <td>0</td>\n",
       "      <td>0</td>\n",
       "      <td>204</td>\n",
       "      <td>9</td>\n",
       "      <td>0</td>\n",
       "      <td>0</td>\n",
       "      <td>0</td>\n",
       "      <td>0</td>\n",
       "      <td>NaN</td>\n",
       "      <td>NaN</td>\n",
       "      <td>NaN</td>\n",
       "      <td>NaN</td>\n",
       "    </tr>\n",
       "  </tbody>\n",
       "</table>\n",
       "</div>"
      ],
      "text/plain": [
       "                          status_id status_type status_published  \\\n",
       "0  246675545449582_1649696485147474       video   4/22/2018 6:00   \n",
       "1  246675545449582_1649426988507757       photo  4/21/2018 22:45   \n",
       "2  246675545449582_1648730588577397       video   4/21/2018 6:17   \n",
       "3  246675545449582_1648576705259452       photo   4/21/2018 2:29   \n",
       "4  246675545449582_1645700502213739       photo   4/18/2018 3:22   \n",
       "\n",
       "   num_reactions  num_comments  num_shares  num_likes  num_loves  num_wows  \\\n",
       "0            529           512         262        432         92         3   \n",
       "1            150             0           0        150          0         0   \n",
       "2            227           236          57        204         21         1   \n",
       "3            111             0           0        111          0         0   \n",
       "4            213             0           0        204          9         0   \n",
       "\n",
       "   num_hahas  num_sads  num_angrys  Column1  Column2  Column3  Column4  \n",
       "0          1         1           0      NaN      NaN      NaN      NaN  \n",
       "1          0         0           0      NaN      NaN      NaN      NaN  \n",
       "2          1         0           0      NaN      NaN      NaN      NaN  \n",
       "3          0         0           0      NaN      NaN      NaN      NaN  \n",
       "4          0         0           0      NaN      NaN      NaN      NaN  "
      ]
     },
     "execution_count": 2,
     "metadata": {},
     "output_type": "execute_result"
    }
   ],
   "source": [
    "df = pd.read_csv('Publicacions Facebook Thailandia.csv')\n",
    "df.head()"
   ]
  },
  {
   "cell_type": "code",
   "execution_count": 3,
   "id": "570a7c9c",
   "metadata": {},
   "outputs": [
    {
     "data": {
      "text/plain": [
       "status_id              0\n",
       "status_type            0\n",
       "status_published       0\n",
       "num_reactions          0\n",
       "num_comments           0\n",
       "num_shares             0\n",
       "num_likes              0\n",
       "num_loves              0\n",
       "num_wows               0\n",
       "num_hahas              0\n",
       "num_sads               0\n",
       "num_angrys             0\n",
       "Column1             7050\n",
       "Column2             7050\n",
       "Column3             7050\n",
       "Column4             7050\n",
       "dtype: int64"
      ]
     },
     "execution_count": 3,
     "metadata": {},
     "output_type": "execute_result"
    }
   ],
   "source": [
    "# Els valors nuls estàn tots a les quatre últimes columnes\n",
    "df.isna().sum()"
   ]
  },
  {
   "cell_type": "markdown",
   "id": "bec35f1f",
   "metadata": {},
   "source": [
    "Eliminarem les columnes amb dades nules i els status id i published per l'exercici. Transformem l'status_type en numeric. El data set queda així:"
   ]
  },
  {
   "cell_type": "code",
   "execution_count": 4,
   "id": "abcdaa55",
   "metadata": {},
   "outputs": [
    {
     "data": {
      "text/html": [
       "<div>\n",
       "<style scoped>\n",
       "    .dataframe tbody tr th:only-of-type {\n",
       "        vertical-align: middle;\n",
       "    }\n",
       "\n",
       "    .dataframe tbody tr th {\n",
       "        vertical-align: top;\n",
       "    }\n",
       "\n",
       "    .dataframe thead th {\n",
       "        text-align: right;\n",
       "    }\n",
       "</style>\n",
       "<table border=\"1\" class=\"dataframe\">\n",
       "  <thead>\n",
       "    <tr style=\"text-align: right;\">\n",
       "      <th></th>\n",
       "      <th>num_reactions</th>\n",
       "      <th>num_comments</th>\n",
       "      <th>num_shares</th>\n",
       "      <th>num_likes</th>\n",
       "      <th>num_loves</th>\n",
       "      <th>num_wows</th>\n",
       "      <th>num_hahas</th>\n",
       "      <th>num_sads</th>\n",
       "      <th>num_angrys</th>\n",
       "      <th>status_type_num</th>\n",
       "    </tr>\n",
       "  </thead>\n",
       "  <tbody>\n",
       "    <tr>\n",
       "      <th>0</th>\n",
       "      <td>529</td>\n",
       "      <td>512</td>\n",
       "      <td>262</td>\n",
       "      <td>432</td>\n",
       "      <td>92</td>\n",
       "      <td>3</td>\n",
       "      <td>1</td>\n",
       "      <td>1</td>\n",
       "      <td>0</td>\n",
       "      <td>0</td>\n",
       "    </tr>\n",
       "    <tr>\n",
       "      <th>1</th>\n",
       "      <td>150</td>\n",
       "      <td>0</td>\n",
       "      <td>0</td>\n",
       "      <td>150</td>\n",
       "      <td>0</td>\n",
       "      <td>0</td>\n",
       "      <td>0</td>\n",
       "      <td>0</td>\n",
       "      <td>0</td>\n",
       "      <td>1</td>\n",
       "    </tr>\n",
       "    <tr>\n",
       "      <th>2</th>\n",
       "      <td>227</td>\n",
       "      <td>236</td>\n",
       "      <td>57</td>\n",
       "      <td>204</td>\n",
       "      <td>21</td>\n",
       "      <td>1</td>\n",
       "      <td>1</td>\n",
       "      <td>0</td>\n",
       "      <td>0</td>\n",
       "      <td>0</td>\n",
       "    </tr>\n",
       "    <tr>\n",
       "      <th>3</th>\n",
       "      <td>111</td>\n",
       "      <td>0</td>\n",
       "      <td>0</td>\n",
       "      <td>111</td>\n",
       "      <td>0</td>\n",
       "      <td>0</td>\n",
       "      <td>0</td>\n",
       "      <td>0</td>\n",
       "      <td>0</td>\n",
       "      <td>1</td>\n",
       "    </tr>\n",
       "    <tr>\n",
       "      <th>4</th>\n",
       "      <td>213</td>\n",
       "      <td>0</td>\n",
       "      <td>0</td>\n",
       "      <td>204</td>\n",
       "      <td>9</td>\n",
       "      <td>0</td>\n",
       "      <td>0</td>\n",
       "      <td>0</td>\n",
       "      <td>0</td>\n",
       "      <td>1</td>\n",
       "    </tr>\n",
       "  </tbody>\n",
       "</table>\n",
       "</div>"
      ],
      "text/plain": [
       "   num_reactions  num_comments  num_shares  num_likes  num_loves  num_wows  \\\n",
       "0            529           512         262        432         92         3   \n",
       "1            150             0           0        150          0         0   \n",
       "2            227           236          57        204         21         1   \n",
       "3            111             0           0        111          0         0   \n",
       "4            213             0           0        204          9         0   \n",
       "\n",
       "   num_hahas  num_sads  num_angrys  status_type_num  \n",
       "0          1         1           0                0  \n",
       "1          0         0           0                1  \n",
       "2          1         0           0                0  \n",
       "3          0         0           0                1  \n",
       "4          0         0           0                1  "
      ]
     },
     "execution_count": 4,
     "metadata": {},
     "output_type": "execute_result"
    }
   ],
   "source": [
    "df = df.drop(['Column1','Column2','Column3','Column4', 'status_id','status_published'], axis=1)  \n",
    "labels = df['status_type'].unique()\n",
    "d = dict(zip(labels, range(0,4)))\n",
    "df['status_type_num']=df['status_type'].map(d)\n",
    "df = df.drop(['status_type'], axis=1)\n",
    "df.head()"
   ]
  },
  {
   "cell_type": "code",
   "execution_count": 5,
   "id": "9dfed95f",
   "metadata": {},
   "outputs": [
    {
     "data": {
      "text/plain": [
       "num_reactions      int64\n",
       "num_comments       int64\n",
       "num_shares         int64\n",
       "num_likes          int64\n",
       "num_loves          int64\n",
       "num_wows           int64\n",
       "num_hahas          int64\n",
       "num_sads           int64\n",
       "num_angrys         int64\n",
       "status_type_num    int64\n",
       "dtype: object"
      ]
     },
     "execution_count": 5,
     "metadata": {},
     "output_type": "execute_result"
    }
   ],
   "source": [
    "# I els dtypes així:\n",
    "df.dtypes"
   ]
  },
  {
   "cell_type": "markdown",
   "id": "aef6573b",
   "metadata": {},
   "source": [
    "#### K-means"
   ]
  },
  {
   "cell_type": "code",
   "execution_count": 6,
   "id": "1112207a",
   "metadata": {},
   "outputs": [],
   "source": [
    "# Importem les llibreríes específiques\n",
    "from kneed import KneeLocator\n",
    "from sklearn.datasets import make_blobs\n",
    "from sklearn.cluster import KMeans\n",
    "from sklearn.metrics import silhouette_score\n",
    "from sklearn.preprocessing import StandardScaler\n",
    "from sklearn.preprocessing import normalize\n"
   ]
  },
  {
   "cell_type": "code",
   "execution_count": 7,
   "id": "f72ba066",
   "metadata": {},
   "outputs": [],
   "source": [
    "# Definim les features i les labels\n",
    "features = df\n",
    "#labels = df['labels']"
   ]
  },
  {
   "cell_type": "code",
   "execution_count": 8,
   "id": "825153f9",
   "metadata": {},
   "outputs": [
    {
     "data": {
      "text/html": [
       "<div>\n",
       "<style scoped>\n",
       "    .dataframe tbody tr th:only-of-type {\n",
       "        vertical-align: middle;\n",
       "    }\n",
       "\n",
       "    .dataframe tbody tr th {\n",
       "        vertical-align: top;\n",
       "    }\n",
       "\n",
       "    .dataframe thead th {\n",
       "        text-align: right;\n",
       "    }\n",
       "</style>\n",
       "<table border=\"1\" class=\"dataframe\">\n",
       "  <thead>\n",
       "    <tr style=\"text-align: right;\">\n",
       "      <th></th>\n",
       "      <th>num_reactions</th>\n",
       "      <th>num_comments</th>\n",
       "      <th>num_shares</th>\n",
       "      <th>num_likes</th>\n",
       "      <th>num_loves</th>\n",
       "      <th>num_wows</th>\n",
       "      <th>num_hahas</th>\n",
       "      <th>num_sads</th>\n",
       "      <th>num_angrys</th>\n",
       "      <th>status_type_num</th>\n",
       "    </tr>\n",
       "  </thead>\n",
       "  <tbody>\n",
       "    <tr>\n",
       "      <th>0</th>\n",
       "      <td>0.589334</td>\n",
       "      <td>0.570395</td>\n",
       "      <td>0.291882</td>\n",
       "      <td>0.481271</td>\n",
       "      <td>0.102493</td>\n",
       "      <td>0.003342</td>\n",
       "      <td>0.001114</td>\n",
       "      <td>0.001114</td>\n",
       "      <td>0.0</td>\n",
       "      <td>0.000000</td>\n",
       "    </tr>\n",
       "    <tr>\n",
       "      <th>1</th>\n",
       "      <td>0.707099</td>\n",
       "      <td>0.000000</td>\n",
       "      <td>0.000000</td>\n",
       "      <td>0.707099</td>\n",
       "      <td>0.000000</td>\n",
       "      <td>0.000000</td>\n",
       "      <td>0.000000</td>\n",
       "      <td>0.000000</td>\n",
       "      <td>0.0</td>\n",
       "      <td>0.004714</td>\n",
       "    </tr>\n",
       "    <tr>\n",
       "      <th>2</th>\n",
       "      <td>0.581225</td>\n",
       "      <td>0.604269</td>\n",
       "      <td>0.145946</td>\n",
       "      <td>0.522334</td>\n",
       "      <td>0.053770</td>\n",
       "      <td>0.002560</td>\n",
       "      <td>0.002560</td>\n",
       "      <td>0.000000</td>\n",
       "      <td>0.0</td>\n",
       "      <td>0.000000</td>\n",
       "    </tr>\n",
       "    <tr>\n",
       "      <th>3</th>\n",
       "      <td>0.707092</td>\n",
       "      <td>0.000000</td>\n",
       "      <td>0.000000</td>\n",
       "      <td>0.707092</td>\n",
       "      <td>0.000000</td>\n",
       "      <td>0.000000</td>\n",
       "      <td>0.000000</td>\n",
       "      <td>0.000000</td>\n",
       "      <td>0.0</td>\n",
       "      <td>0.006370</td>\n",
       "    </tr>\n",
       "    <tr>\n",
       "      <th>4</th>\n",
       "      <td>0.721860</td>\n",
       "      <td>0.000000</td>\n",
       "      <td>0.000000</td>\n",
       "      <td>0.691359</td>\n",
       "      <td>0.030501</td>\n",
       "      <td>0.000000</td>\n",
       "      <td>0.000000</td>\n",
       "      <td>0.000000</td>\n",
       "      <td>0.0</td>\n",
       "      <td>0.003389</td>\n",
       "    </tr>\n",
       "  </tbody>\n",
       "</table>\n",
       "</div>"
      ],
      "text/plain": [
       "   num_reactions  num_comments  num_shares  num_likes  num_loves  num_wows  \\\n",
       "0       0.589334      0.570395    0.291882   0.481271   0.102493  0.003342   \n",
       "1       0.707099      0.000000    0.000000   0.707099   0.000000  0.000000   \n",
       "2       0.581225      0.604269    0.145946   0.522334   0.053770  0.002560   \n",
       "3       0.707092      0.000000    0.000000   0.707092   0.000000  0.000000   \n",
       "4       0.721860      0.000000    0.000000   0.691359   0.030501  0.000000   \n",
       "\n",
       "   num_hahas  num_sads  num_angrys  status_type_num  \n",
       "0   0.001114  0.001114         0.0         0.000000  \n",
       "1   0.000000  0.000000         0.0         0.004714  \n",
       "2   0.002560  0.000000         0.0         0.000000  \n",
       "3   0.000000  0.000000         0.0         0.006370  \n",
       "4   0.000000  0.000000         0.0         0.003389  "
      ]
     },
     "execution_count": 8,
     "metadata": {},
     "output_type": "execute_result"
    }
   ],
   "source": [
    "# First we normalize the data\n",
    "scaled_features = normalize(df)\n",
    "scaled_features = pd.DataFrame(scaled_features, columns=df.columns)\n",
    "scaled_features.head()"
   ]
  },
  {
   "cell_type": "code",
   "execution_count": 9,
   "id": "d91ede6c",
   "metadata": {},
   "outputs": [],
   "source": [
    "# Normalitzem les features\n",
    "# scaler = StandardScaler()\n",
    "# scaled_features = scaler.fit_transform(features)\n",
    "# scaled_features[:5]"
   ]
  },
  {
   "cell_type": "markdown",
   "id": "74656065",
   "metadata": {},
   "source": [
    "Mirarem de trobar el nombre de clusters ideals amb un elbow plot"
   ]
  },
  {
   "cell_type": "code",
   "execution_count": 10,
   "id": "a1e80926",
   "metadata": {
    "scrolled": true
   },
   "outputs": [
    {
     "name": "stderr",
     "output_type": "stream",
     "text": [
      "Exception ignored on calling ctypes callback function: <function _ThreadpoolInfo._find_modules_with_dl_iterate_phdr.<locals>.match_module_callback at 0x7fdd3c7a2dc0>\n",
      "Traceback (most recent call last):\n",
      "  File \"/home/jordi/anaconda3/lib/python3.9/site-packages/threadpoolctl.py\", line 400, in match_module_callback\n",
      "    self._make_module_from_path(filepath)\n",
      "  File \"/home/jordi/anaconda3/lib/python3.9/site-packages/threadpoolctl.py\", line 515, in _make_module_from_path\n",
      "    module = module_class(filepath, prefix, user_api, internal_api)\n",
      "  File \"/home/jordi/anaconda3/lib/python3.9/site-packages/threadpoolctl.py\", line 606, in __init__\n",
      "    self.version = self.get_version()\n",
      "  File \"/home/jordi/anaconda3/lib/python3.9/site-packages/threadpoolctl.py\", line 646, in get_version\n",
      "    config = get_config().split()\n",
      "AttributeError: 'NoneType' object has no attribute 'split'\n",
      "Exception ignored on calling ctypes callback function: <function _ThreadpoolInfo._find_modules_with_dl_iterate_phdr.<locals>.match_module_callback at 0x7fdd3c7a2dc0>\n",
      "Traceback (most recent call last):\n",
      "  File \"/home/jordi/anaconda3/lib/python3.9/site-packages/threadpoolctl.py\", line 400, in match_module_callback\n",
      "    self._make_module_from_path(filepath)\n",
      "  File \"/home/jordi/anaconda3/lib/python3.9/site-packages/threadpoolctl.py\", line 515, in _make_module_from_path\n",
      "    module = module_class(filepath, prefix, user_api, internal_api)\n",
      "  File \"/home/jordi/anaconda3/lib/python3.9/site-packages/threadpoolctl.py\", line 606, in __init__\n",
      "    self.version = self.get_version()\n",
      "  File \"/home/jordi/anaconda3/lib/python3.9/site-packages/threadpoolctl.py\", line 646, in get_version\n",
      "    config = get_config().split()\n",
      "AttributeError: 'NoneType' object has no attribute 'split'\n",
      "Exception ignored on calling ctypes callback function: <function _ThreadpoolInfo._find_modules_with_dl_iterate_phdr.<locals>.match_module_callback at 0x7fdd3c7a2dc0>\n",
      "Traceback (most recent call last):\n",
      "  File \"/home/jordi/anaconda3/lib/python3.9/site-packages/threadpoolctl.py\", line 400, in match_module_callback\n",
      "    self._make_module_from_path(filepath)\n",
      "  File \"/home/jordi/anaconda3/lib/python3.9/site-packages/threadpoolctl.py\", line 515, in _make_module_from_path\n",
      "    module = module_class(filepath, prefix, user_api, internal_api)\n",
      "  File \"/home/jordi/anaconda3/lib/python3.9/site-packages/threadpoolctl.py\", line 606, in __init__\n",
      "    self.version = self.get_version()\n",
      "  File \"/home/jordi/anaconda3/lib/python3.9/site-packages/threadpoolctl.py\", line 646, in get_version\n",
      "    config = get_config().split()\n",
      "AttributeError: 'NoneType' object has no attribute 'split'\n",
      "Exception ignored on calling ctypes callback function: <function _ThreadpoolInfo._find_modules_with_dl_iterate_phdr.<locals>.match_module_callback at 0x7fdcd7b17040>\n",
      "Traceback (most recent call last):\n",
      "  File \"/home/jordi/anaconda3/lib/python3.9/site-packages/threadpoolctl.py\", line 400, in match_module_callback\n",
      "    self._make_module_from_path(filepath)\n",
      "  File \"/home/jordi/anaconda3/lib/python3.9/site-packages/threadpoolctl.py\", line 515, in _make_module_from_path\n",
      "    module = module_class(filepath, prefix, user_api, internal_api)\n",
      "  File \"/home/jordi/anaconda3/lib/python3.9/site-packages/threadpoolctl.py\", line 606, in __init__\n",
      "    self.version = self.get_version()\n",
      "  File \"/home/jordi/anaconda3/lib/python3.9/site-packages/threadpoolctl.py\", line 646, in get_version\n",
      "    config = get_config().split()\n",
      "AttributeError: 'NoneType' object has no attribute 'split'\n",
      "Exception ignored on calling ctypes callback function: <function _ThreadpoolInfo._find_modules_with_dl_iterate_phdr.<locals>.match_module_callback at 0x7fdd3c7a2dc0>\n",
      "Traceback (most recent call last):\n",
      "  File \"/home/jordi/anaconda3/lib/python3.9/site-packages/threadpoolctl.py\", line 400, in match_module_callback\n",
      "    self._make_module_from_path(filepath)\n",
      "  File \"/home/jordi/anaconda3/lib/python3.9/site-packages/threadpoolctl.py\", line 515, in _make_module_from_path\n",
      "    module = module_class(filepath, prefix, user_api, internal_api)\n",
      "  File \"/home/jordi/anaconda3/lib/python3.9/site-packages/threadpoolctl.py\", line 606, in __init__\n",
      "    self.version = self.get_version()\n",
      "  File \"/home/jordi/anaconda3/lib/python3.9/site-packages/threadpoolctl.py\", line 646, in get_version\n",
      "    config = get_config().split()\n",
      "AttributeError: 'NoneType' object has no attribute 'split'\n",
      "Exception ignored on calling ctypes callback function: <function _ThreadpoolInfo._find_modules_with_dl_iterate_phdr.<locals>.match_module_callback at 0x7fdcd7b17040>\n",
      "Traceback (most recent call last):\n",
      "  File \"/home/jordi/anaconda3/lib/python3.9/site-packages/threadpoolctl.py\", line 400, in match_module_callback\n",
      "    self._make_module_from_path(filepath)\n",
      "  File \"/home/jordi/anaconda3/lib/python3.9/site-packages/threadpoolctl.py\", line 515, in _make_module_from_path\n",
      "    module = module_class(filepath, prefix, user_api, internal_api)\n",
      "  File \"/home/jordi/anaconda3/lib/python3.9/site-packages/threadpoolctl.py\", line 606, in __init__\n",
      "    self.version = self.get_version()\n",
      "  File \"/home/jordi/anaconda3/lib/python3.9/site-packages/threadpoolctl.py\", line 646, in get_version\n",
      "    config = get_config().split()\n",
      "AttributeError: 'NoneType' object has no attribute 'split'\n",
      "Exception ignored on calling ctypes callback function: <function _ThreadpoolInfo._find_modules_with_dl_iterate_phdr.<locals>.match_module_callback at 0x7fdcd7b17040>\n",
      "Traceback (most recent call last):\n",
      "  File \"/home/jordi/anaconda3/lib/python3.9/site-packages/threadpoolctl.py\", line 400, in match_module_callback\n",
      "    self._make_module_from_path(filepath)\n",
      "  File \"/home/jordi/anaconda3/lib/python3.9/site-packages/threadpoolctl.py\", line 515, in _make_module_from_path\n",
      "    module = module_class(filepath, prefix, user_api, internal_api)\n",
      "  File \"/home/jordi/anaconda3/lib/python3.9/site-packages/threadpoolctl.py\", line 606, in __init__\n",
      "    self.version = self.get_version()\n",
      "  File \"/home/jordi/anaconda3/lib/python3.9/site-packages/threadpoolctl.py\", line 646, in get_version\n",
      "    config = get_config().split()\n",
      "AttributeError: 'NoneType' object has no attribute 'split'\n",
      "Exception ignored on calling ctypes callback function: <function _ThreadpoolInfo._find_modules_with_dl_iterate_phdr.<locals>.match_module_callback at 0x7fdcd7b17040>\n",
      "Traceback (most recent call last):\n",
      "  File \"/home/jordi/anaconda3/lib/python3.9/site-packages/threadpoolctl.py\", line 400, in match_module_callback\n",
      "    self._make_module_from_path(filepath)\n",
      "  File \"/home/jordi/anaconda3/lib/python3.9/site-packages/threadpoolctl.py\", line 515, in _make_module_from_path\n",
      "    module = module_class(filepath, prefix, user_api, internal_api)\n",
      "  File \"/home/jordi/anaconda3/lib/python3.9/site-packages/threadpoolctl.py\", line 606, in __init__\n",
      "    self.version = self.get_version()\n",
      "  File \"/home/jordi/anaconda3/lib/python3.9/site-packages/threadpoolctl.py\", line 646, in get_version\n",
      "    config = get_config().split()\n",
      "AttributeError: 'NoneType' object has no attribute 'split'\n",
      "Exception ignored on calling ctypes callback function: <function _ThreadpoolInfo._find_modules_with_dl_iterate_phdr.<locals>.match_module_callback at 0x7fdcd7b17040>\n",
      "Traceback (most recent call last):\n",
      "  File \"/home/jordi/anaconda3/lib/python3.9/site-packages/threadpoolctl.py\", line 400, in match_module_callback\n",
      "    self._make_module_from_path(filepath)\n",
      "  File \"/home/jordi/anaconda3/lib/python3.9/site-packages/threadpoolctl.py\", line 515, in _make_module_from_path\n",
      "    module = module_class(filepath, prefix, user_api, internal_api)\n",
      "  File \"/home/jordi/anaconda3/lib/python3.9/site-packages/threadpoolctl.py\", line 606, in __init__\n",
      "    self.version = self.get_version()\n",
      "  File \"/home/jordi/anaconda3/lib/python3.9/site-packages/threadpoolctl.py\", line 646, in get_version\n",
      "    config = get_config().split()\n",
      "AttributeError: 'NoneType' object has no attribute 'split'\n",
      "Exception ignored on calling ctypes callback function: <function _ThreadpoolInfo._find_modules_with_dl_iterate_phdr.<locals>.match_module_callback at 0x7fdcd7b17040>\n",
      "Traceback (most recent call last):\n",
      "  File \"/home/jordi/anaconda3/lib/python3.9/site-packages/threadpoolctl.py\", line 400, in match_module_callback\n",
      "    self._make_module_from_path(filepath)\n",
      "  File \"/home/jordi/anaconda3/lib/python3.9/site-packages/threadpoolctl.py\", line 515, in _make_module_from_path\n",
      "    module = module_class(filepath, prefix, user_api, internal_api)\n",
      "  File \"/home/jordi/anaconda3/lib/python3.9/site-packages/threadpoolctl.py\", line 606, in __init__\n",
      "    self.version = self.get_version()\n",
      "  File \"/home/jordi/anaconda3/lib/python3.9/site-packages/threadpoolctl.py\", line 646, in get_version\n",
      "    config = get_config().split()\n",
      "AttributeError: 'NoneType' object has no attribute 'split'\n"
     ]
    }
   ],
   "source": [
    "kmeans_kwargs = {\n",
    "    \"init\": \"random\",\n",
    "    \"n_init\": 10,\n",
    "    \"max_iter\": 300,\n",
    "    \"random_state\": 42,\n",
    "}\n",
    "\n",
    "# Posem els valors SSE (Sum Squared Error) en ua llista\n",
    "sse ={} \n",
    "# for k in range(1, 11):\n",
    "#     kmeans = KMeans(n_clusters=k, **kmeans_kwargs)\n",
    "#     kmeans.fit(scaled_features)\n",
    "#     sse.append(kmeans.inertia_)\n",
    "    \n",
    "for k in range(1, 11):\n",
    "    kmeans = KMeans(n_clusters=k, **kmeans_kwargs)\n",
    "    kmeans.fit(scaled_features)\n",
    "    sse[k] = kmeans.inertia_"
   ]
  },
  {
   "cell_type": "code",
   "execution_count": 11,
   "id": "62007d8c",
   "metadata": {},
   "outputs": [
    {
     "data": {
      "image/png": "[encoded data removed]",
      "text/plain": [
       "<Figure size 720x504 with 1 Axes>"
      ]
     },
     "metadata": {
      "needs_background": "light"
     },
     "output_type": "display_data"
    }
   ],
   "source": [
    "fig, ax = plt.subplots(figsize=(10,7))\n",
    "sns.pointplot(x=list(sse.keys()),\n",
    "                 y=list(sse.values()))\n",
    "plt.xlabel(\"Number of Clusters\")\n",
    "plt.ylabel(\"SSE\")\n",
    "plt.savefig('Sum_Squared_error.png')"
   ]
  },
  {
   "cell_type": "markdown",
   "id": "ae842ee0",
   "metadata": {},
   "source": [
    "Utlilitzarem el *knee locator* per tal de trobar quin és el millor número de clusters i ho mostrem al gràfic:"
   ]
  },
  {
   "cell_type": "code",
   "execution_count": 12,
   "id": "9efc5cf9",
   "metadata": {},
   "outputs": [],
   "source": [
    "kn = KneeLocator(x=list(sse.keys()),\n",
    "                 y=list(sse.values()),\n",
    "                 curve='convex',\n",
    "                 direction='decreasing')\n",
    "k = kn.knee "
   ]
  },
  {
   "cell_type": "code",
   "execution_count": 13,
   "id": "bc5e1590",
   "metadata": {},
   "outputs": [
    {
     "data": {
      "text/plain": [
       "2"
      ]
     },
     "execution_count": 13,
     "metadata": {},
     "output_type": "execute_result"
    }
   ],
   "source": [
    "k"
   ]
  },
  {
   "cell_type": "code",
   "execution_count": 14,
   "id": "1016fca1",
   "metadata": {},
   "outputs": [
    {
     "data": {
      "image/png": "[encoded data removed]",
      "text/plain": [
       "<Figure size 720x504 with 1 Axes>"
      ]
     },
     "metadata": {
      "needs_background": "light"
     },
     "output_type": "display_data"
    }
   ],
   "source": [
    "fig, ax = plt.subplots(figsize=(10,7))\n",
    "sns.pointplot(x=list(sse.keys()),\n",
    "                 y=list(sse.values()))\n",
    "plt.axvline(x=k, color='r', linestyle='--')\n",
    "plt.xlabel(\"Number of Clusters\")\n",
    "plt.ylabel(\"SSE\")\n",
    "plt.savefig('Sum_Squared_error_knee.png')"
   ]
  },
  {
   "cell_type": "markdown",
   "id": "df114201",
   "metadata": {},
   "source": [
    "En el gràfic anterior el punt ideal pel nombre de clusters és aquell punt on SSE (Sum Squared Error) és menor en el menor número de clusters possible. Podem verificar-ho també utilitzant el silhouete plot:"
   ]
  },
  {
   "cell_type": "code",
   "execution_count": 15,
   "id": "60a57590",
   "metadata": {},
   "outputs": [],
   "source": [
    "# Llista pels coeficients de silhouete en per cada k\n",
    "silhouette_coefficients = []\n",
    "\n",
    "#Calculem Apendem els valors de silhouette_score i els posem a la llista\n",
    "for k in range(2, 11):\n",
    "    kmeans = KMeans(n_clusters=k, **kmeans_kwargs)\n",
    "    kmeans.fit(scaled_features)\n",
    "    score = silhouette_score(scaled_features, kmeans.labels_)\n",
    "    silhouette_coefficients.append(score)"
   ]
  },
  {
   "cell_type": "code",
   "execution_count": 16,
   "id": "a0f8688f",
   "metadata": {
    "scrolled": true
   },
   "outputs": [
    {
     "data": {
      "image/png": "[encoded data removed]",
      "text/plain": [
       "<Figure size 720x504 with 1 Axes>"
      ]
     },
     "metadata": {
      "needs_background": "light"
     },
     "output_type": "display_data"
    }
   ],
   "source": [
    "fig, ax = plt.subplots(figsize=(10,7))\n",
    "\n",
    "plt.plot(range(2, 11), silhouette_coefficients)\n",
    "plt.xticks(range(2, 11))\n",
    "plt.xlabel(\"Number of Clusters\")\n",
    "plt.ylabel(\"Silhouette Coefficient\")\n",
    "plt.savefig('Silhouette Coefficient.png')"
   ]
  },
  {
   "cell_type": "markdown",
   "id": "805b7901",
   "metadata": {},
   "source": [
    "A mode d'exercíci utilitzarem 2 i 3 clusters que són les millors opcions amb les dades que tenim."
   ]
  },
  {
   "cell_type": "code",
   "execution_count": 17,
   "id": "c5ecb04e",
   "metadata": {},
   "outputs": [
    {
     "name": "stdout",
     "output_type": "stream",
     "text": [
      "371.6332855816635\n",
      "[[2.75912243e-01 7.57373422e-01 1.93765561e-01 2.12816171e-01\n",
      "  5.72109245e-02 2.77616873e-03 2.24439148e-03 4.97374785e-04\n",
      "  3.65513228e-04 2.37741299e-02]\n",
      " [7.03131827e-01 6.71690539e-02 1.73312093e-02 6.90474924e-01\n",
      "  8.16158208e-03 2.38736696e-03 8.95510275e-04 9.52355360e-04\n",
      "  2.53470531e-04 3.22270759e-02]]\n",
      "4\n",
      "0.7801813110734024\n"
     ]
    }
   ],
   "source": [
    "# N-cluster=2\n",
    "\n",
    "kmeans = KMeans(n_clusters=2, **kmeans_kwargs)\n",
    "kmeans.fit(scaled_features)\n",
    "\n",
    "# Menos SSE\n",
    "print(kmeans.inertia_)\n",
    "\n",
    "# On es troben els centroides dels clusters\n",
    "print(kmeans.cluster_centers_)\n",
    "\n",
    "# Numero d`iteraccions per convergir\n",
    "print(kmeans.n_iter_)\n",
    "\n",
    "# Silhouette score\n",
    "score = silhouette_score(scaled_features, kmeans.labels_)\n",
    "print (score)"
   ]
  },
  {
   "cell_type": "code",
   "execution_count": 18,
   "id": "1a92e79a",
   "metadata": {},
   "outputs": [
    {
     "name": "stdout",
     "output_type": "stream",
     "text": [
      "267.06240013626996\n",
      "[[3.06186953e-01 8.45411202e-01 2.03829822e-01 2.35876031e-01\n",
      "  6.37757256e-02 3.07677620e-03 2.49767155e-03 5.56332758e-04\n",
      "  4.04416207e-04 3.07608237e-03]\n",
      " [7.03196395e-01 6.72768575e-02 1.73380637e-02 6.90608071e-01\n",
      "  8.08633938e-03 2.39164214e-03 8.97136506e-04 9.52519729e-04\n",
      "  2.53698237e-04 3.19920708e-02]\n",
      " [2.28144216e-02 1.04091914e-02 1.07883102e-01 1.75403545e-02\n",
      "  5.13032814e-03 7.13866376e-05 4.32608607e-05 0.00000000e+00\n",
      "  2.90914759e-05 2.07306086e-01]]\n",
      "7\n",
      "0.7966258228618696\n"
     ]
    }
   ],
   "source": [
    "# N-cluster=3\n",
    "\n",
    "kmeans = KMeans(n_clusters=3, **kmeans_kwargs)\n",
    "kmeans.fit(scaled_features)\n",
    "\n",
    "# Menos SSE\n",
    "print(kmeans.inertia_)\n",
    "\n",
    "# On es troben els centroides dels clusters\n",
    "print(kmeans.cluster_centers_)\n",
    "\n",
    "# Numero d`iteraccions per convergir\n",
    "print(kmeans.n_iter_)\n",
    "\n",
    "# Silhouette score\n",
    "score = silhouette_score(scaled_features, kmeans.labels_)\n",
    "print (score)"
   ]
  },
  {
   "cell_type": "markdown",
   "id": "322ff7f3",
   "metadata": {},
   "source": [
    "La tria del número de clusters depèn d'aquestes mètriques utilitzades però també del coneixement de les dades i el problema que volem solucionar. En aquest exercíci hem utilitzat l'status type com a fteritzaben correctament els quatre tipus de dades."
   ]
  },
  {
   "cell_type": "markdown",
   "id": "58760629",
   "metadata": {},
   "source": [
    "### Hierarchical Clustering "
   ]
  },
  {
   "cell_type": "code",
   "execution_count": 19,
   "id": "ce0820e6",
   "metadata": {},
   "outputs": [
    {
     "data": {
      "text/html": [
       "<div>\n",
       "<style scoped>\n",
       "    .dataframe tbody tr th:only-of-type {\n",
       "        vertical-align: middle;\n",
       "    }\n",
       "\n",
       "    .dataframe tbody tr th {\n",
       "        vertical-align: top;\n",
       "    }\n",
       "\n",
       "    .dataframe thead th {\n",
       "        text-align: right;\n",
       "    }\n",
       "</style>\n",
       "<table border=\"1\" class=\"dataframe\">\n",
       "  <thead>\n",
       "    <tr style=\"text-align: right;\">\n",
       "      <th></th>\n",
       "      <th>num_reactions</th>\n",
       "      <th>num_comments</th>\n",
       "      <th>num_shares</th>\n",
       "      <th>num_likes</th>\n",
       "      <th>num_loves</th>\n",
       "      <th>num_wows</th>\n",
       "      <th>num_hahas</th>\n",
       "      <th>num_sads</th>\n",
       "      <th>num_angrys</th>\n",
       "      <th>status_type_num</th>\n",
       "    </tr>\n",
       "  </thead>\n",
       "  <tbody>\n",
       "    <tr>\n",
       "      <th>0</th>\n",
       "      <td>0.589334</td>\n",
       "      <td>0.570395</td>\n",
       "      <td>0.291882</td>\n",
       "      <td>0.481271</td>\n",
       "      <td>0.102493</td>\n",
       "      <td>0.003342</td>\n",
       "      <td>0.001114</td>\n",
       "      <td>0.001114</td>\n",
       "      <td>0.0</td>\n",
       "      <td>0.000000</td>\n",
       "    </tr>\n",
       "    <tr>\n",
       "      <th>1</th>\n",
       "      <td>0.707099</td>\n",
       "      <td>0.000000</td>\n",
       "      <td>0.000000</td>\n",
       "      <td>0.707099</td>\n",
       "      <td>0.000000</td>\n",
       "      <td>0.000000</td>\n",
       "      <td>0.000000</td>\n",
       "      <td>0.000000</td>\n",
       "      <td>0.0</td>\n",
       "      <td>0.004714</td>\n",
       "    </tr>\n",
       "    <tr>\n",
       "      <th>2</th>\n",
       "      <td>0.581225</td>\n",
       "      <td>0.604269</td>\n",
       "      <td>0.145946</td>\n",
       "      <td>0.522334</td>\n",
       "      <td>0.053770</td>\n",
       "      <td>0.002560</td>\n",
       "      <td>0.002560</td>\n",
       "      <td>0.000000</td>\n",
       "      <td>0.0</td>\n",
       "      <td>0.000000</td>\n",
       "    </tr>\n",
       "    <tr>\n",
       "      <th>3</th>\n",
       "      <td>0.707092</td>\n",
       "      <td>0.000000</td>\n",
       "      <td>0.000000</td>\n",
       "      <td>0.707092</td>\n",
       "      <td>0.000000</td>\n",
       "      <td>0.000000</td>\n",
       "      <td>0.000000</td>\n",
       "      <td>0.000000</td>\n",
       "      <td>0.0</td>\n",
       "      <td>0.006370</td>\n",
       "    </tr>\n",
       "    <tr>\n",
       "      <th>4</th>\n",
       "      <td>0.721860</td>\n",
       "      <td>0.000000</td>\n",
       "      <td>0.000000</td>\n",
       "      <td>0.691359</td>\n",
       "      <td>0.030501</td>\n",
       "      <td>0.000000</td>\n",
       "      <td>0.000000</td>\n",
       "      <td>0.000000</td>\n",
       "      <td>0.0</td>\n",
       "      <td>0.003389</td>\n",
       "    </tr>\n",
       "  </tbody>\n",
       "</table>\n",
       "</div>"
      ],
      "text/plain": [
       "   num_reactions  num_comments  num_shares  num_likes  num_loves  num_wows  \\\n",
       "0       0.589334      0.570395    0.291882   0.481271   0.102493  0.003342   \n",
       "1       0.707099      0.000000    0.000000   0.707099   0.000000  0.000000   \n",
       "2       0.581225      0.604269    0.145946   0.522334   0.053770  0.002560   \n",
       "3       0.707092      0.000000    0.000000   0.707092   0.000000  0.000000   \n",
       "4       0.721860      0.000000    0.000000   0.691359   0.030501  0.000000   \n",
       "\n",
       "   num_hahas  num_sads  num_angrys  status_type_num  \n",
       "0   0.001114  0.001114         0.0         0.000000  \n",
       "1   0.000000  0.000000         0.0         0.004714  \n",
       "2   0.002560  0.000000         0.0         0.000000  \n",
       "3   0.000000  0.000000         0.0         0.006370  \n",
       "4   0.000000  0.000000         0.0         0.003389  "
      ]
     },
     "execution_count": 19,
     "metadata": {},
     "output_type": "execute_result"
    }
   ],
   "source": [
    "# Recordem les features ja escalades\n",
    "scaled_features.head()"
   ]
  },
  {
   "cell_type": "markdown",
   "id": "bf287e08",
   "metadata": {},
   "source": [
    "Farem el dendograma per triar el número de clusters a ser utilitzats"
   ]
  },
  {
   "cell_type": "code",
   "execution_count": 20,
   "id": "11563d91",
   "metadata": {},
   "outputs": [
    {
     "data": {
      "image/png": "[encoded data removed]",
      "text/plain": [
       "<Figure size 720x504 with 1 Axes>"
      ]
     },
     "metadata": {
      "needs_background": "light"
     },
     "output_type": "display_data"
    }
   ],
   "source": [
    "import scipy.cluster.hierarchy as shc\n",
    "\n",
    "plt.figure(figsize=(10, 7))  \n",
    "plt.title(\"Dendrograms\")  \n",
    "dend = shc.dendrogram(shc.linkage(scaled_features, method='ward'))\n",
    "\n"
   ]
  },
  {
   "cell_type": "markdown",
   "id": "ff444fac",
   "metadata": {},
   "source": [
    "En un dendogram veiem les distàncies de cada punt individualment representades a l'eix y. En l'eix x hi ha cada un dels punts i per això, en aquest cas és illegible però el que interessa d'aquest dendograma és com es van formant clusters a mesura que augment la distància. D'aquesta manera, tenim tots el punts com a clusters individuals quant y=0 i un únic cluster contenint tots els punts (en blau) quant y > 40 amb el nostre dataset normalitzat.\n",
    "\n",
    "El dendograma és molt útil per visualitzar els clusters possibles i la tria normalment es fa on hi ha més distàncies entre els punts, o dit d'una altre manera, on la línea vertical és més llarga. Com sempre, aquesta decisió depèn del coneixement de les dades i objectius de la clusterització. En el nostre cas, aplicarem un tall a aproximadament y=15 (gràfic a seguir) quedant-no amb dos clusters principals, el verd i el taronja."
   ]
  },
  {
   "cell_type": "code",
   "execution_count": 21,
   "id": "ae98920f",
   "metadata": {},
   "outputs": [
    {
     "data": {
      "image/png": "[encoded data removed]",
      "text/plain": [
       "<Figure size 720x504 with 1 Axes>"
      ]
     },
     "metadata": {
      "needs_background": "light"
     },
     "output_type": "display_data"
    }
   ],
   "source": [
    "plt.figure(figsize=(10, 7))  \n",
    "plt.title(\"Dendrograms\")  \n",
    "plt.axhline(y=15, color='r', linestyle='--')\n",
    "dend = shc.dendrogram(shc.linkage(scaled_features, method='ward'))\n",
    "\n",
    "plt.savefig('Dendogram.png')"
   ]
  },
  {
   "cell_type": "code",
   "execution_count": 22,
   "id": "a29ee97a",
   "metadata": {},
   "outputs": [
    {
     "data": {
      "text/plain": [
       "array([0, 1, 0, ..., 1, 1, 1])"
      ]
     },
     "execution_count": 22,
     "metadata": {},
     "output_type": "execute_result"
    }
   ],
   "source": [
    "from sklearn.cluster import AgglomerativeClustering\n",
    "cluster = AgglomerativeClustering(n_clusters=2, affinity='euclidean', linkage='ward')  \n",
    "cluster.fit_predict(scaled_features)"
   ]
  },
  {
   "cell_type": "markdown",
   "id": "eb462952",
   "metadata": {},
   "source": [
    "Finalment podem observar gràficament com les dades estàn separades en dos clusters. Per a tal, reduirem el dataset en dues components utilitzant el PCA (Principal Component Analysis). El nostre dataset original té 10 variables. Reduint-lo a dues podem representar totes les dades projectades en un gràfic 2d on representarem també per colors els dos clusters que hem creat."
   ]
  },
  {
   "cell_type": "code",
   "execution_count": 23,
   "id": "72e208f4",
   "metadata": {},
   "outputs": [],
   "source": [
    "# Importem llibreries per PCA\n",
    "from sklearn.decomposition import PCA"
   ]
  },
  {
   "cell_type": "code",
   "execution_count": 24,
   "id": "986f6a20",
   "metadata": {},
   "outputs": [
    {
     "name": "stdout",
     "output_type": "stream",
     "text": [
      "(7050, 10)\n",
      "(7050, 2)\n"
     ]
    }
   ],
   "source": [
    "pca = PCA(2)  # projectem les dades de 10 a 2 dimensions\n",
    "projected = pca.fit_transform(scaled_features)\n",
    "print(scaled_features.shape)\n",
    "print(projected.shape)"
   ]
  },
  {
   "cell_type": "code",
   "execution_count": 25,
   "id": "f7502eb3",
   "metadata": {},
   "outputs": [
    {
     "data": {
      "image/png": "[encoded data removed]",
      "text/plain": [
       "<Figure size 720x504 with 1 Axes>"
      ]
     },
     "metadata": {
      "needs_background": "light"
     },
     "output_type": "display_data"
    }
   ],
   "source": [
    "fig, ax = plt.subplots(figsize=(10,7))\n",
    "plt.scatter(projected[:, 0], projected[:, 1],\n",
    "            c=cluster.labels_, edgecolor='none', alpha=0.5,\n",
    "            cmap=plt.colormaps['Spectral'])\n",
    "plt.xlabel('component 1', fontsize=14)\n",
    "plt.ylabel('component 2', fontsize=14)\n",
    "\n",
    "plt.savefig('PCA.png')"
   ]
  },
  {
   "cell_type": "code",
   "execution_count": 26,
   "id": "7d862dbb",
   "metadata": {},
   "outputs": [
    {
     "name": "stdout",
     "output_type": "stream",
     "text": [
      "0.7778693411409332\n"
     ]
    }
   ],
   "source": [
    "# Silhouette score\n",
    "score = silhouette_score(scaled_features, cluster.labels_)\n",
    "print (score)"
   ]
  }
 ],
 "metadata": {
  "kernelspec": {
   "display_name": "Python 3 (ipykernel)",
   "language": "python",
   "name": "python3"
  },
  "language_info": {
   "codemirror_mode": {
    "name": "ipython",
    "version": 3
   },
   "file_extension": ".py",
   "mimetype": "text/x-python",
   "name": "python",
   "nbconvert_exporter": "python",
   "pygments_lexer": "ipython3",
   "version": "3.9.7"
  }
 },
 "nbformat": 4,
 "nbformat_minor": 5
}
