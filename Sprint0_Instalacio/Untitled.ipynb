{
 "cells": [
  {
   "cell_type": "markdown",
   "id": "8640c8c7",
   "metadata": {},
   "source": [
    "### Sprint 0\n",
    "#### Some simple calcs"
   ]
  },
  {
   "cell_type": "code",
   "execution_count": 6,
   "id": "37496d62",
   "metadata": {},
   "outputs": [
    {
     "data": {
      "text/plain": [
       "4"
      ]
     },
     "execution_count": 6,
     "metadata": {},
     "output_type": "execute_result"
    }
   ],
   "source": [
    "2+2"
   ]
  },
  {
   "cell_type": "code",
   "execution_count": 2,
   "id": "34cd4508",
   "metadata": {},
   "outputs": [
    {
     "data": {
      "text/plain": [
       "6"
      ]
     },
     "execution_count": 2,
     "metadata": {},
     "output_type": "execute_result"
    }
   ],
   "source": [
    "2*3"
   ]
  },
  {
   "cell_type": "code",
   "execution_count": 3,
   "id": "1d790c23",
   "metadata": {
    "scrolled": true
   },
   "outputs": [
    {
     "data": {
      "text/plain": [
       "1.0"
      ]
     },
     "execution_count": 3,
     "metadata": {},
     "output_type": "execute_result"
    }
   ],
   "source": [
    "(2*3)/6"
   ]
  },
  {
   "cell_type": "code",
   "execution_count": 5,
   "id": "a98f2ab4",
   "metadata": {
    "scrolled": true
   },
   "outputs": [
    {
     "data": {
      "text/plain": [
       "2"
      ]
     },
     "execution_count": 5,
     "metadata": {},
     "output_type": "execute_result"
    }
   ],
   "source": [
    "8%3"
   ]
  },
  {
   "cell_type": "markdown",
   "id": "7e5f326a",
   "metadata": {},
   "source": [
    "### Insert Images"
   ]
  },
  {
   "cell_type": "markdown",
   "id": "8f45978c",
   "metadata": {},
   "source": [
    "![Logo](perfil_foto_out.jpeg)"
   ]
  },
  {
   "cell_type": "code",
   "execution_count": 8,
   "id": "d3ae5f69",
   "metadata": {},
   "outputs": [
    {
     "name": "stdout",
     "output_type": "stream",
     "text": [
      "'Jupyter Notebook Cheatsheet.pdf'   \u001b[0m\u001b[01;35mperfil_foto_out.jpeg\u001b[0m   Untitled.ipynb\r\n",
      "'Markdown Cheatsheet.pdf'           Untitled.html\r\n"
     ]
    }
   ],
   "source": [
    "ls"
   ]
  },
  {
   "cell_type": "code",
   "execution_count": 9,
   "id": "2cc2c243",
   "metadata": {
    "scrolled": true
   },
   "outputs": [],
   "source": [
    "%magic\n"
   ]
  },
  {
   "cell_type": "code",
   "execution_count": 10,
   "id": "e593ab87",
   "metadata": {},
   "outputs": [
    {
     "name": "stdout",
     "output_type": "stream",
     "text": [
      "78.9 ns ± 0.791 ns per loop (mean ± std. dev. of 7 runs, 10,000,000 loops each)\n"
     ]
    }
   ],
   "source": [
    "%timeit range(1000)"
   ]
  },
  {
   "cell_type": "code",
   "execution_count": 12,
   "id": "c91965cf",
   "metadata": {},
   "outputs": [
    {
     "data": {
      "text/plain": [
       "1000"
      ]
     },
     "execution_count": 12,
     "metadata": {},
     "output_type": "execute_result"
    }
   ],
   "source": [
    "len (range(1000))"
   ]
  }
 ],
 "metadata": {
  "kernelspec": {
   "display_name": "Python 3 (ipykernel)",
   "language": "python",
   "name": "python3"
  },
  "language_info": {
   "codemirror_mode": {
    "name": "ipython",
    "version": 3
   },
   "file_extension": ".py",
   "mimetype": "text/x-python",
   "name": "python",
   "nbconvert_exporter": "python",
   "pygments_lexer": "ipython3",
   "version": "3.9.7"
  },
  "widgets": {
   "application/vnd.jupyter.widget-state+json": {
    "state": {},
    "version_major": 2,
    "version_minor": 0
   }
  }
 },
 "nbformat": 4,
 "nbformat_minor": 5
}
