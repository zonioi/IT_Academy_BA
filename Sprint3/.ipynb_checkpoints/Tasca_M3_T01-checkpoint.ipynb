{
 "cells": [
  {
   "cell_type": "markdown",
   "id": "7469135c",
   "metadata": {},
   "source": [
    "## Sprint 3\n",
    "### Tasca M3 T01"
   ]
  },
  {
   "cell_type": "markdown",
   "id": "6b33ffc9",
   "metadata": {},
   "source": [
    "### Exercici 1\n",
    "Crea una funció que donat un Array d’una dimensió, et faci un resum estadístic bàsic de les dades. Si detecta que l’array té més d’una dimensió, ha de mostrar un missatge d’error."
   ]
  },
  {
   "cell_type": "code",
   "execution_count": 1,
   "id": "552967ae",
   "metadata": {},
   "outputs": [
    {
     "name": "stdout",
     "output_type": "stream",
     "text": [
      "Observacions 101\n",
      "Rang 98\n",
      "Mitjana 49.56435643564357\n",
      "Std 29.305632831845383\n",
      "Var 858.820115674934\n",
      "Moda ModeResult(mode=43, count=5)\n",
      "Min 0\n",
      "Q25 23.0\n",
      "Med 47.0\n",
      "Q75 75.0\n",
      "Max 98\n"
     ]
    }
   ],
   "source": [
    "# importem llibrereies\n",
    "import numpy as np\n",
    "from scipy import stats\n",
    "\n",
    "\n",
    "#Creem la funció\n",
    "def stats_arr(array):\n",
    "    '''\n",
    "    Returns basic statistics from one dimensional array\n",
    "    '''\n",
    "    if array.ndim == 1:\n",
    "        print('Observacions {}'.format(len(array)))\n",
    "        print('Rang {}'.format(np.max(array)-np.min(array)))\n",
    "        print('Mitjana {}'.format(np.mean(array)))\n",
    "        print('Std {}'.format(np.std(array)))\n",
    "        print('Var {}'.format(np.var(array)))\n",
    "        print('Moda {}'.format(stats.mode(array,keepdims=False)))\n",
    "        print('Min {}'.format(np.min(array)))\n",
    "        print('Q25 {}'.format(np.percentile(array, 25)))\n",
    "        print('Med {}'.format(np.percentile(array, 50)))\n",
    "        print('Q75 {}'.format(np.percentile(array, 75)))\n",
    "        print('Max {}'.format(np.max(array)))\n",
    "    \n",
    "    else:\n",
    "        print('Siusplau, introdueix un array duna dimensió') \n",
    "        \n",
    "# Generem un array unidimensional amb 101 elements enters entre 0 i 100\n",
    "# i utilitzem la funció per extreuren l'estatistica bàsica\n",
    "\n",
    "arr = np.array(np.random.randint(0,100, size=101))\n",
    "\n",
    "stats_arr(arr)"
   ]
  },
  {
   "cell_type": "code",
   "execution_count": 2,
   "id": "e0371c6e",
   "metadata": {},
   "outputs": [
    {
     "name": "stdout",
     "output_type": "stream",
     "text": [
      "Siusplau, introdueix un array duna dimensió\n"
     ]
    }
   ],
   "source": [
    "# Creem un array de més d'una dimensió per comprobar que en retorna un missatge d'error\n",
    "\n",
    "arr_2m = np.array([[1,2,3],[4,5,6]])\n",
    "stats_arr(arr_2m)"
   ]
  },
  {
   "cell_type": "markdown",
   "id": "d313bcd4",
   "metadata": {},
   "source": [
    "### Exercici 2\n",
    "\n",
    "Crea una funció que et generi un quadrat NxN de nombres aleatoris entre el 0 i el 100"
   ]
  },
  {
   "cell_type": "code",
   "execution_count": 3,
   "id": "12a14220",
   "metadata": {},
   "outputs": [
    {
     "data": {
      "text/plain": [
       "array([[98, 21, 57, 91, 28, 27, 64, 81, 86, 26],\n",
       "       [54, 27, 64, 81, 79, 81, 63, 33,  4, 93],\n",
       "       [17,  8, 32, 98, 15,  6, 41, 15, 65, 33],\n",
       "       [33, 46, 37, 31, 24, 92, 20, 69, 27, 24],\n",
       "       [52, 97,  3, 52, 37, 60, 20, 47, 43,  5],\n",
       "       [67,  8,  6, 22, 79, 33, 50, 57, 67, 87],\n",
       "       [43, 90, 63,  5, 52, 52, 82, 76, 89, 84],\n",
       "       [72, 41, 58, 77, 28, 54, 50, 88, 80, 40],\n",
       "       [79, 55, 39, 79, 77, 14, 40, 95, 39, 55],\n",
       "       [41, 29, 87,  0, 87, 87, 74, 42, 47, 47]])"
      ]
     },
     "execution_count": 3,
     "metadata": {},
     "output_type": "execute_result"
    }
   ],
   "source": [
    "def quad(n):\n",
    "    '''\n",
    "    Returns a squared array of size NxN containing numbers from 0 to 100.\n",
    "    '''\n",
    "    arr = np.array(np.random.randint(0,100, size=n**2))\n",
    "    arr_quad= arr.reshape(n,n)\n",
    "    return arr_quad\n",
    "\n",
    "quad(10)"
   ]
  },
  {
   "cell_type": "markdown",
   "id": "554cd1e3",
   "metadata": {},
   "source": [
    "### Exercici 3\n",
    "\n",
    "Crea una funció que donada una taula de dues dimensions (NxM), et calculi els totals per fila i els totals per columna."
   ]
  },
  {
   "cell_type": "code",
   "execution_count": 4,
   "id": "eb432ac8",
   "metadata": {},
   "outputs": [],
   "source": [
    "def totals (taula):\n",
    "    '''\n",
    "    Print the sum for each column and each row given an array of shape NxM\n",
    "    '''\n",
    "    if taula.ndim == 2:\n",
    "        cols = taula.sum(axis=0)\n",
    "        rows = taula.sum(axis=1)\n",
    "        print('Has introduit correctament una taula de {} x {} elements'.format(np.shape(taula)[0], np.shape(taula)[1]))\n",
    "        print('')\n",
    "        print('Les columnes sumen {}'.format(cols))\n",
    "        print('Les files sumen {}'.format(rows))\n",
    "        print('')\n",
    "    else:\n",
    "        print ('La matriu que has introduit no és vàlida! Introdueix una matriu de dues dimensions MxN')\n",
    "        \n",
    "   \n",
    "\n",
    " # Creem un array de 100 elements\n",
    "arr_nm = np.array(np.random.randint(0,100, size=100))\n",
    "\n",
    "# Per experimentar amb la funció transformarem l'array en tres taules, una de 10x10, l'altre de 25x4,\n",
    "# i la última tridimensional 25x2x2 perquè ens generi el missatge d'error.\n",
    "\n",
    "taula1 = arr_nm.reshape(10,10)\n",
    "taula2 = arr_nm.reshape(25,4)\n",
    "taula3 = arr_nm.reshape(25,2,2)"
   ]
  },
  {
   "cell_type": "markdown",
   "id": "33ad98e0",
   "metadata": {},
   "source": [
    "Comprovem els tres casos:"
   ]
  },
  {
   "cell_type": "code",
   "execution_count": 5,
   "id": "5dc2ae91",
   "metadata": {},
   "outputs": [
    {
     "name": "stdout",
     "output_type": "stream",
     "text": [
      "Has introduit correctament una taula de 10 x 10 elements\n",
      "\n",
      "Les columnes sumen [486 587 379 399 405 538 725 663 556 606]\n",
      "Les files sumen [407 631 574 294 655 458 454 548 669 654]\n",
      "\n"
     ]
    }
   ],
   "source": [
    "totals(taula1)"
   ]
  },
  {
   "cell_type": "code",
   "execution_count": 6,
   "id": "b153db10",
   "metadata": {},
   "outputs": [
    {
     "name": "stdout",
     "output_type": "stream",
     "text": [
      "Has introduit correctament una taula de 25 x 4 elements\n",
      "\n",
      "Les columnes sumen [1351 1644 1200 1149]\n",
      "Les files sumen [ 61 245 193 242 297 196 281 158 111 122 196 313 297  42 265 126 225 192\n",
      " 201 258 214 307 306 177 319]\n",
      "\n"
     ]
    }
   ],
   "source": [
    "totals(taula2)"
   ]
  },
  {
   "cell_type": "code",
   "execution_count": 7,
   "id": "47349e30",
   "metadata": {},
   "outputs": [
    {
     "name": "stdout",
     "output_type": "stream",
     "text": [
      "La matriu que has introduit no és vàlida! Introdueix una matriu de dues dimensions MxN\n"
     ]
    }
   ],
   "source": [
    "totals(taula3)"
   ]
  },
  {
   "cell_type": "markdown",
   "id": "6b9b4d4e",
   "metadata": {},
   "source": [
    "### Exercici 4\n",
    "\n",
    "Implementa manualment una funció que calculi el coeficient de correlació. Informa-te'n sobre els seus usos i interpretació."
   ]
  },
  {
   "cell_type": "code",
   "execution_count": 8,
   "id": "ab937f29",
   "metadata": {},
   "outputs": [],
   "source": [
    "import pandas as pd\n",
    "import matplotlib.pyplot as plt"
   ]
  },
  {
   "cell_type": "markdown",
   "id": "c1f77539",
   "metadata": {},
   "source": [
    "$r_{xy} = \\frac{\\sum_{i=1}^{n} (x_i -\\bar{x})(y_i -\\bar{y})}{\\sqrt{\\sum_{i=1}^{n} (x_i -\\bar{x})^2} \\sqrt{\\sum_{i=1}^{n} (y_i -\\bar{y})^2}}$\n",
    "\n",
    "on $n$ és el tamany de la mostra,\n",
    "\n",
    "$x_i$ és cada un dels elements denotats per la posició $i$,\n",
    "\n",
    "$\\bar{x}$ i $\\bar{y}$ és la mitjana de $x$ i $y$ respectivament."
   ]
  },
  {
   "cell_type": "markdown",
   "id": "175e2f7d",
   "metadata": {},
   "source": [
    "Per tal de calcular el coeficient de correlacó de Pearson manualment calcularem individualment cada un dels elements i blocs de la equació $r_{xy}$. "
   ]
  },
  {
   "cell_type": "code",
   "execution_count": 9,
   "id": "476a6ba4",
   "metadata": {},
   "outputs": [],
   "source": [
    "def r_pearson (x,y):\n",
    "    '''\n",
    "    Returns de Pearson correlation (R) between two arrays of the same shape.\n",
    "    '''\n",
    "    if len(x) == len(y):\n",
    "        \n",
    "        # Calculem la mitjana\n",
    "        x_mean = sum(x)/len(x)\n",
    "        y_mean = sum(y)/len(y)   \n",
    " \n",
    "    \n",
    "        #Calculem la diferència entre cada element i la seva mitjana i els posem a una llista\n",
    "        x_minus_mean = []\n",
    "        for el in np.nditer(x):\n",
    "            x_res = el - x_mean\n",
    "            x_minus_mean.append(x_res)\n",
    "            \n",
    "        y_minus_mean = []\n",
    "        for el in np.nditer(y):        \n",
    "            y_res = el - y_mean\n",
    "            y_minus_mean.append(y_res)\n",
    "        \n",
    "        #Calculem el producte de cada element calculat al pas anterior.\n",
    "        # Aquesta serà la primera somatòria Sum1 (somatòria numerador)\n",
    "        prod_minus_mean = []\n",
    "        for i in range(len(x)):\n",
    "            prod = x_minus_mean[i]*y_minus_mean[i]\n",
    "            prod_minus_mean.append(prod)\n",
    "     \n",
    "        #Calculem els quadrats de la diferència entre cada element i la seva mitjana.\n",
    "        #Representan les somatòries del denominador Sum2 i Sum3\n",
    "        x_minus_mean_squared = []\n",
    "        y_minus_mean_squared = []\n",
    "        for i in range(len(x)):\n",
    "            x_sq = x_minus_mean[i]**2\n",
    "            y_sq = y_minus_mean[i]**2\n",
    "        \n",
    "            x_minus_mean_squared.append(x_sq)\n",
    "            y_minus_mean_squared.append(y_sq)\n",
    "     \n",
    "        # Calculem les somatòries\n",
    "        sum1 = sum(prod_minus_mean)\n",
    "        sum2 = sum(x_minus_mean_squared)\n",
    "        sum3 = sum(y_minus_mean_squared)\n",
    "    \n",
    "        # Calculem el coeficient de correlació de Pearson\n",
    "        r = sum1/np.sqrt(sum2*sum3)\n",
    "        \n",
    "    else:\n",
    "        print('Introdueix dos arrays amb la mateix número d elements ')\n",
    "    return r\n",
    "            "
   ]
  },
  {
   "cell_type": "code",
   "execution_count": 10,
   "id": "a88dddc5",
   "metadata": {},
   "outputs": [
    {
     "name": "stdout",
     "output_type": "stream",
     "text": [
      "-0.03811380723524236\n",
      "-0.03811380723524238\n"
     ]
    }
   ],
   "source": [
    "# Generem 2 arrays i calculem la correlació entre ells amb la funció creada i la funció de numpy \n",
    "# per verificar el resultat\n",
    "\n",
    "arr1 = np.array(np.random.randint(0,100,1000))\n",
    "arr2 = np.array(np.random.randint(0,100,1000))\n",
    "\n",
    "print (r_pearson(arr1,arr2))\n",
    "print (np.corrcoef(arr1,arr2)[0][1])"
   ]
  },
  {
   "cell_type": "markdown",
   "id": "3614a1df",
   "metadata": {},
   "source": [
    "Comprovem que no hi ha cap correlació linear entre els dos arrays ja que el resultat és pròxim de 0. Una correlació o anticorrelació linear forta és representada per números pròxims de 1 i -1 respectivament. Cal destacar que, encara que existeixi una correlació positiva o negativa, cal conèixer les variables bé abans d'afirmar que existeix una interdependència real. També és important verificar altres tipus de correlació no linear per entendre la interdependència entre dues o més variables."
   ]
  }
 ],
 "metadata": {
  "kernelspec": {
   "display_name": "Python 3 (ipykernel)",
   "language": "python",
   "name": "python3"
  },
  "language_info": {
   "codemirror_mode": {
    "name": "ipython",
    "version": 3
   },
   "file_extension": ".py",
   "mimetype": "text/x-python",
   "name": "python",
   "nbconvert_exporter": "python",
   "pygments_lexer": "ipython3",
   "version": "3.9.7"
  }
 },
 "nbformat": 4,
 "nbformat_minor": 5
}
