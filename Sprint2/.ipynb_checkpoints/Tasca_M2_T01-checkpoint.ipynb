{
 "cells": [
  {
   "cell_type": "markdown",
   "id": "c165a33b",
   "metadata": {},
   "source": [
    "### Sprint 2\n",
    "#### Tasca M2 T01"
   ]
  },
  {
   "cell_type": "markdown",
   "id": "65db436c",
   "metadata": {},
   "source": [
    "### Exercici 1.\n",
    "\n",
    "Crea una llista que agrupi els mesos de l’any en trimestres (1T: gener, febrer i març; 2T: abril, maig, juny...), és a dir, una llista amb 4 llistes dins."
   ]
  },
  {
   "cell_type": "code",
   "execution_count": 7,
   "id": "ea4cca1a",
   "metadata": {},
   "outputs": [
    {
     "name": "stdout",
     "output_type": "stream",
     "text": [
      "<class 'list'>\n",
      "<class 'list'>\n",
      "<class 'list'>\n",
      "<class 'list'>\n",
      "\n",
      "La llista mesos consisteix en una llista (mesos de l'any) de llistes (dividida en trimestres): \n",
      "[['Gener', 'Febrer', 'Març'], ['Abril', 'Maig', 'Juny'], ['Juliol', 'Agost', 'Setembre'], ['Octubre', 'Novembre', 'Dezembre']]\n"
     ]
    }
   ],
   "source": [
    "# Dues maneres de crear llistes entre 'brackets' i utilitzant el constructor. \n",
    "# Al final comprovem que són del tipus llista i mostrem la llista de llistes exigida a l'exercici.\n",
    "\n",
    "T1 = ['Gener', 'Febrer', 'Març']\n",
    "T2 = list(('Abril', 'Maig', 'Juny'))\n",
    "T3 = ['Juliol', 'Agost', 'Setembre']\n",
    "T4 = list(('Octubre', 'Novembre', 'Dezembre'))\n",
    "\n",
    "mesos = [T1,T2,T3,T4]\n",
    "\n",
    "for x in trimestres:\n",
    "    print (type(x))\n",
    "\n",
    "print()\n",
    "print('La llista mesos consisteix en una llista (mesos de l\\'any) de llistes (dividida en trimestres): ')\n",
    "print (mesos)"
   ]
  },
  {
   "cell_type": "code",
   "execution_count": 8,
   "id": "6f9940f1",
   "metadata": {},
   "outputs": [
    {
     "data": {
      "text/plain": [
       "[['Gener', 'Febrer', 'Març'],\n",
       " ['Abril', 'Maig', 'Juny'],\n",
       " ['Juliol', 'Agost', 'Setembre'],\n",
       " ['Octubre', 'Novembre', 'Dezembre']]"
      ]
     },
     "execution_count": 8,
     "metadata": {},
     "output_type": "execute_result"
    }
   ],
   "source": [
    "# Una altre forma de crear la llista de llistes és utilitzant el mètode append (també extend())\n",
    "mesos2 = []\n",
    "for i in mesos:\n",
    "    mesos2.append(i)\n",
    "    \n",
    "mesos2"
   ]
  },
  {
   "cell_type": "code",
   "execution_count": 9,
   "id": "d2298832",
   "metadata": {},
   "outputs": [
    {
     "name": "stdout",
     "output_type": "stream",
     "text": [
      "True\n",
      "True\n"
     ]
    }
   ],
   "source": [
    "# I comprovem que és mesos2 és del tipus llista i que és igual que mesos.\n",
    "\n",
    "print (type(mesos2)==list) \n",
    "print(mesos2 == mesos) "
   ]
  },
  {
   "cell_type": "markdown",
   "id": "56994a50",
   "metadata": {},
   "source": [
    "### Exercici 2\n",
    "\n",
    "Crea un codi que et permeti accedir a:\n",
    "\n",
    "* El segon mes del primer trimestre.\n",
    "* Els mesos del primer trimestre.\n",
    "* Setembre i octubre.\n"
   ]
  },
  {
   "cell_type": "code",
   "execution_count": 5,
   "id": "9c578edb",
   "metadata": {},
   "outputs": [],
   "source": [
    "import numpy as np"
   ]
  },
  {
   "cell_type": "code",
   "execution_count": 6,
   "id": "b67c8ab7",
   "metadata": {},
   "outputs": [
    {
     "data": {
      "text/plain": [
       "(4, 3)"
      ]
     },
     "execution_count": 6,
     "metadata": {},
     "output_type": "execute_result"
    }
   ],
   "source": [
    "# Amb el shape de numpy podem comprobar que la nostra llista mesos és de (4,3) -> 4 trimestres i 3 mesos\n",
    "np.shape(mesos)"
   ]
  },
  {
   "cell_type": "code",
   "execution_count": 7,
   "id": "8e402aac",
   "metadata": {},
   "outputs": [
    {
     "data": {
      "text/plain": [
       "'Febrer'"
      ]
     },
     "execution_count": 7,
     "metadata": {},
     "output_type": "execute_result"
    }
   ],
   "source": [
    "# Per accedir al segon mes (posició 1) del primer trimestre (posició 0):\n",
    "mesos[0][1]"
   ]
  },
  {
   "cell_type": "code",
   "execution_count": 8,
   "id": "215378ac",
   "metadata": {},
   "outputs": [
    {
     "data": {
      "text/plain": [
       "['Gener', 'Febrer', 'Març']"
      ]
     },
     "execution_count": 8,
     "metadata": {},
     "output_type": "execute_result"
    }
   ],
   "source": [
    "# Per accedir als mesos del primer trimestre només utilitzarem la primera dimensió:\n",
    "mesos[0]"
   ]
  },
  {
   "cell_type": "code",
   "execution_count": 9,
   "id": "e22588fe",
   "metadata": {},
   "outputs": [
    {
     "name": "stdout",
     "output_type": "stream",
     "text": [
      "Setembre Octubre\n"
     ]
    }
   ],
   "source": [
    "# Per accedir a Setembre i Octubre:\n",
    "print(mesos[2][2], mesos[3][0])"
   ]
  },
  {
   "cell_type": "markdown",
   "id": "d7734580",
   "metadata": {},
   "source": [
    "### Exercici 3\n",
    "\n",
    "Crea una llista amb nombres desordenats i respon a les següents preguntes:\n",
    "\n",
    "\n",
    "*    Quants números hi ha?\n",
    "*    Quantes vegades apareix el número 3.\n",
    "*    Quantes vegades apareixen els nombres 3 i 4?\n",
    "*    Quin és el número més gran?\n",
    "*    Quins són els 3 números més petits?\n",
    "*    Quin és el rang d’aquesta llista?\n"
   ]
  },
  {
   "cell_type": "code",
   "execution_count": 10,
   "id": "6e6a01b2",
   "metadata": {},
   "outputs": [],
   "source": [
    "import random"
   ]
  },
  {
   "cell_type": "code",
   "execution_count": 11,
   "id": "c3bd2170",
   "metadata": {},
   "outputs": [
    {
     "name": "stdout",
     "output_type": "stream",
     "text": [
      "[6, 2, 8, 9, 3, 5, 4, 1, 2, 6, 4, 3, 8, 1, 6, 0, 3, 5, 4, 8, 8, 5, 1, 10, 10, 4, 10, 2, 2, 0, 8, 4, 7, 3, 7, 10, 10, 4, 8, 8, 5, 9, 10, 1, 7, 6, 0, 9, 7, 9]\n"
     ]
    }
   ],
   "source": [
    "# A partir d'una llista buida, amd el mètode append generarem una llista de 50 nombres enters entre 0 i 10\n",
    "\n",
    "integers=[]\n",
    "for i in range(50):\n",
    "    res = random.randint(0,10)\n",
    "    integers.append(res)\n",
    "    \n",
    "print(integers)"
   ]
  },
  {
   "cell_type": "code",
   "execution_count": 12,
   "id": "aa91b176",
   "metadata": {},
   "outputs": [],
   "source": [
    "# Una altra forma més directe utilitzant el randomitzador de numpy i transformant-la en llista\n",
    "\n",
    "integers2 = np.random.randint(0,10,50)\n",
    "integers2 = list(integers2)"
   ]
  },
  {
   "cell_type": "code",
   "execution_count": 13,
   "id": "991ed848",
   "metadata": {},
   "outputs": [
    {
     "name": "stdout",
     "output_type": "stream",
     "text": [
      "50\n"
     ]
    }
   ],
   "source": [
    "# Quants números hi ha?\n",
    "\n",
    "print(len(integers))"
   ]
  },
  {
   "cell_type": "code",
   "execution_count": 16,
   "id": "9eccbbb6",
   "metadata": {},
   "outputs": [
    {
     "data": {
      "text/plain": [
       "4"
      ]
     },
     "execution_count": 16,
     "metadata": {},
     "output_type": "execute_result"
    }
   ],
   "source": [
    "# Quantes vegades es repeteix el tres?\n",
    "\n",
    "tresos = integers.count(3)\n",
    "tresos"
   ]
  },
  {
   "cell_type": "code",
   "execution_count": 22,
   "id": "6eb86775",
   "metadata": {},
   "outputs": [
    {
     "data": {
      "text/plain": [
       "10"
      ]
     },
     "execution_count": 22,
     "metadata": {},
     "output_type": "execute_result"
    }
   ],
   "source": [
    "# Quantes vegades apareixen els nombres 3 i 4?\n",
    "\n",
    "tres_quatre = integers.count(3) + integers.count(4)\n",
    "tres_quatre"
   ]
  },
  {
   "cell_type": "code",
   "execution_count": 24,
   "id": "5e70dfab",
   "metadata": {},
   "outputs": [
    {
     "data": {
      "text/plain": [
       "10"
      ]
     },
     "execution_count": 24,
     "metadata": {},
     "output_type": "execute_result"
    }
   ],
   "source": [
    "# Quin és el número més gran?\n",
    "\n",
    "gran = max(integers)\n",
    "gran"
   ]
  },
  {
   "cell_type": "code",
   "execution_count": 35,
   "id": "42c33cc7",
   "metadata": {},
   "outputs": [
    {
     "data": {
      "text/plain": [
       "[0, 1, 2]"
      ]
     },
     "execution_count": 35,
     "metadata": {},
     "output_type": "execute_result"
    }
   ],
   "source": [
    "# Quins son els 3 números més petits?\n",
    "# Eliminarem els duplicats, ordenarem la llista de menor a major i mostrarem els tres primers elements:\n",
    "\n",
    "unique_int = set(integers) # Aquest mètode transforma la llista en set\n",
    "unique_int = list(unique_int) # Tornem a transformar en llista ja ordenada\n",
    "unique_int[0:3] # Mostrem els tres més petits"
   ]
  },
  {
   "cell_type": "code",
   "execution_count": 43,
   "id": "ea04688a",
   "metadata": {},
   "outputs": [
    {
     "data": {
      "text/plain": [
       "10"
      ]
     },
     "execution_count": 43,
     "metadata": {},
     "output_type": "execute_result"
    }
   ],
   "source": [
    "# Quin és el rang d'aquesta llista?\n",
    "\n",
    "rang = max(integers) - min(integers)\n",
    "rang"
   ]
  },
  {
   "cell_type": "markdown",
   "id": "a3b22ea1",
   "metadata": {},
   "source": [
    "### Exercici 4\n",
    "\n",
    "Crea un diccionari de la següent forma i respon a les preguntes:\n",
    "\n",
    "*   Afegeix alguna fruita més\n",
    "*   Quant han costat les peres en total?\n",
    "*    Quantes fruites hem comprat en total?\n",
    "*    Quina és la fruita més cara?\n"
   ]
  },
  {
   "cell_type": "code",
   "execution_count": 11,
   "id": "4b4a2a90",
   "metadata": {},
   "outputs": [],
   "source": [
    " compra = { \"Pomes\" : {\"Qty\": 5, \"€\": 0.42}, \"Peres\" : {\"Qty\": 3, \"€\": 0.66} } "
   ]
  },
  {
   "cell_type": "code",
   "execution_count": 12,
   "id": "4cba62c6",
   "metadata": {},
   "outputs": [
    {
     "data": {
      "text/plain": [
       "{'Pomes': {'Qty': 5, '€': 0.42},\n",
       " 'Peres': {'Qty': 3, '€': 0.66},\n",
       " 'Pinya': {'Qty': 5, '€': 0.98}}"
      ]
     },
     "execution_count": 12,
     "metadata": {},
     "output_type": "execute_result"
    }
   ],
   "source": [
    "# Afegeix alguna fruita més\n",
    "\n",
    "compra['Pinya'] = {'Qty':5,'€':0.98}\n",
    "compra"
   ]
  },
  {
   "cell_type": "code",
   "execution_count": 13,
   "id": "226e2c81",
   "metadata": {},
   "outputs": [
    {
     "data": {
      "text/plain": [
       "1.98"
      ]
     },
     "execution_count": 13,
     "metadata": {},
     "output_type": "execute_result"
    }
   ],
   "source": [
    "# Quant han costat les peres en total?\n",
    "\n",
    "preu_peres = compra['Peres']['Qty'] * compra['Peres']['€']\n",
    "preu_peres"
   ]
  },
  {
   "cell_type": "code",
   "execution_count": 32,
   "id": "cb39c312",
   "metadata": {},
   "outputs": [
    {
     "name": "stdout",
     "output_type": "stream",
     "text": [
      "Hem comprat un total de 3 fruites\n"
     ]
    }
   ],
   "source": [
    "# Quantes fruites hem comprat en total\n",
    "\n",
    "print('Hem comprat un total de {} fruites'.format(len(compra.keys())))"
   ]
  },
  {
   "cell_type": "code",
   "execution_count": 38,
   "id": "2e042a07",
   "metadata": {},
   "outputs": [],
   "source": [
    "import pandas as pd"
   ]
  },
  {
   "cell_type": "code",
   "execution_count": 62,
   "id": "6ee0abfb",
   "metadata": {},
   "outputs": [],
   "source": [
    "# Quina és la fruita més cara?\n",
    "# Per facilitar la operació (?) creem un df amb tres columnes, fruita, preu individual i preu total.\n",
    "# El df està buit i anem incorporant les dates utilitzant un dels mètodes iterables per accedir al diccionari. \n",
    "\n",
    "df = pd.DataFrame(columns=['fruita', 'preu_individual', 'preu_total'])\n",
    "for fruites, atributs in compra.items():\n",
    "    pr = (atributs['€'])\n",
    "    qt = atributs['Qty']\n",
    "   # print(fruites, pr, qt*pr)\n",
    "    df.loc[len(df)] = [fruites, pr, qt*pr]\n",
    "    \n",
    "    \n"
   ]
  },
  {
   "cell_type": "code",
   "execution_count": 63,
   "id": "d57b208c",
   "metadata": {},
   "outputs": [
    {
     "data": {
      "text/html": [
       "<div>\n",
       "<style scoped>\n",
       "    .dataframe tbody tr th:only-of-type {\n",
       "        vertical-align: middle;\n",
       "    }\n",
       "\n",
       "    .dataframe tbody tr th {\n",
       "        vertical-align: top;\n",
       "    }\n",
       "\n",
       "    .dataframe thead th {\n",
       "        text-align: right;\n",
       "    }\n",
       "</style>\n",
       "<table border=\"1\" class=\"dataframe\">\n",
       "  <thead>\n",
       "    <tr style=\"text-align: right;\">\n",
       "      <th></th>\n",
       "      <th>fruita</th>\n",
       "      <th>preu_individual</th>\n",
       "      <th>preu_total</th>\n",
       "    </tr>\n",
       "  </thead>\n",
       "  <tbody>\n",
       "    <tr>\n",
       "      <th>2</th>\n",
       "      <td>Pinya</td>\n",
       "      <td>0.98</td>\n",
       "      <td>4.90</td>\n",
       "    </tr>\n",
       "    <tr>\n",
       "      <th>1</th>\n",
       "      <td>Peres</td>\n",
       "      <td>0.66</td>\n",
       "      <td>1.98</td>\n",
       "    </tr>\n",
       "    <tr>\n",
       "      <th>0</th>\n",
       "      <td>Pomes</td>\n",
       "      <td>0.42</td>\n",
       "      <td>2.10</td>\n",
       "    </tr>\n",
       "  </tbody>\n",
       "</table>\n",
       "</div>"
      ],
      "text/plain": [
       "  fruita  preu_individual  preu_total\n",
       "2  Pinya             0.98        4.90\n",
       "1  Peres             0.66        1.98\n",
       "0  Pomes             0.42        2.10"
      ]
     },
     "execution_count": 63,
     "metadata": {},
     "output_type": "execute_result"
    }
   ],
   "source": [
    "# Observem que, per preu individual la fruita més cara és la pinya, després la pera i finalment la poma.\n",
    "\n",
    "df.sort_values(by=['preu_individual'], ascending=False)"
   ]
  },
  {
   "cell_type": "code",
   "execution_count": 64,
   "id": "51c21e50",
   "metadata": {},
   "outputs": [
    {
     "data": {
      "text/html": [
       "<div>\n",
       "<style scoped>\n",
       "    .dataframe tbody tr th:only-of-type {\n",
       "        vertical-align: middle;\n",
       "    }\n",
       "\n",
       "    .dataframe tbody tr th {\n",
       "        vertical-align: top;\n",
       "    }\n",
       "\n",
       "    .dataframe thead th {\n",
       "        text-align: right;\n",
       "    }\n",
       "</style>\n",
       "<table border=\"1\" class=\"dataframe\">\n",
       "  <thead>\n",
       "    <tr style=\"text-align: right;\">\n",
       "      <th></th>\n",
       "      <th>fruita</th>\n",
       "      <th>preu_individual</th>\n",
       "      <th>preu_total</th>\n",
       "    </tr>\n",
       "  </thead>\n",
       "  <tbody>\n",
       "    <tr>\n",
       "      <th>2</th>\n",
       "      <td>Pinya</td>\n",
       "      <td>0.98</td>\n",
       "      <td>4.90</td>\n",
       "    </tr>\n",
       "    <tr>\n",
       "      <th>0</th>\n",
       "      <td>Pomes</td>\n",
       "      <td>0.42</td>\n",
       "      <td>2.10</td>\n",
       "    </tr>\n",
       "    <tr>\n",
       "      <th>1</th>\n",
       "      <td>Peres</td>\n",
       "      <td>0.66</td>\n",
       "      <td>1.98</td>\n",
       "    </tr>\n",
       "  </tbody>\n",
       "</table>\n",
       "</div>"
      ],
      "text/plain": [
       "  fruita  preu_individual  preu_total\n",
       "2  Pinya             0.98        4.90\n",
       "0  Pomes             0.42        2.10\n",
       "1  Peres             0.66        1.98"
      ]
     },
     "execution_count": 64,
     "metadata": {},
     "output_type": "execute_result"
    }
   ],
   "source": [
    "# Ordenant pel preu total, la pinya segueix essent la més cara.\n",
    "#En aquest cas el segon lloc és per la poma i finalment la pera\n",
    "\n",
    "df.sort_values(by=['preu_total'], ascending=False)"
   ]
  }
 ],
 "metadata": {
  "kernelspec": {
   "display_name": "Python 3 (ipykernel)",
   "language": "python",
   "name": "python3"
  },
  "language_info": {
   "codemirror_mode": {
    "name": "ipython",
    "version": 3
   },
   "file_extension": ".py",
   "mimetype": "text/x-python",
   "name": "python",
   "nbconvert_exporter": "python",
   "pygments_lexer": "ipython3",
   "version": "3.9.7"
  }
 },
 "nbformat": 4,
 "nbformat_minor": 5
}
