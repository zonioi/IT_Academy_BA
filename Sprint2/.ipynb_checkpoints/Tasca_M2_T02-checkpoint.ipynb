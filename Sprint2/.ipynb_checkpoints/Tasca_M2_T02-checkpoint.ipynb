{
 "cells": [
  {
   "cell_type": "markdown",
   "id": "801da226",
   "metadata": {},
   "source": [
    "### Sprint 2"
   ]
  },
  {
   "cell_type": "markdown",
   "id": "f2228583",
   "metadata": {},
   "source": [
    "#### Tasca M2 T02"
   ]
  },
  {
   "cell_type": "markdown",
   "id": "57d86cdb",
   "metadata": {},
   "source": [
    "### Exercici 1\n",
    "\n",
    "L'exercici consisteix a crear un programa que et classifiqui una variable numèrica en funció de l’escala Suspès/Aprovat/Notable/Excel·lent.\n",
    "\n",
    "Recorda que Suspès < 5, Aprovat > 5 i < 7, Notable > 7 i < 9 i Excel·lent > 9."
   ]
  },
  {
   "cell_type": "code",
   "execution_count": 3,
   "id": "2049d63d",
   "metadata": {},
   "outputs": [],
   "source": [
    "def classifica (nota):\n",
    "    if nota < 5:\n",
    "        print ('Suspès')\n",
    "    elif nota >= 5 and nota < 7:\n",
    "        print ('Aprovat')\n",
    "    elif nota >= 7 and nota < 9:\n",
    "        print ('Notable')\n",
    "    else:\n",
    "        print ('Excel·lent')\n",
    "    "
   ]
  },
  {
   "cell_type": "code",
   "execution_count": 4,
   "id": "b45a225b",
   "metadata": {},
   "outputs": [
    {
     "name": "stdout",
     "output_type": "stream",
     "text": [
      "Suspès\n",
      "Suspès\n",
      "Aprovat\n",
      "Aprovat\n",
      "Notable\n",
      "Notable\n",
      "Excel·lent\n",
      "Notable\n",
      "Excel·lent\n",
      "Excel·lent\n"
     ]
    }
   ],
   "source": [
    "# Test per cada un dels casos. En l'anunciat ha faltat els casos ==5, ==7 i ==9. \n",
    "# Tots tres han estat incluits en la major classificació.\n",
    "\n",
    "notes = [3.4, 4.9, 5.0, 6, 7, 7.8, 9, 8.1, 9.9, 10]\n",
    "\n",
    "for i in notes:\n",
    "    classifica(i)"
   ]
  },
  {
   "cell_type": "markdown",
   "id": "258a34ea",
   "metadata": {},
   "source": [
    "### Exercici 2\n",
    "\n",
    "Crea un programa que et pregunti dos números. T’ha de mostrar un missatge dient si el primer és més gran, el segon és més gran o són iguals.\n",
    "\n"
   ]
  },
  {
   "cell_type": "code",
   "execution_count": 5,
   "id": "ae59ef3a",
   "metadata": {},
   "outputs": [],
   "source": [
    "def quinesmesgran():\n",
    "    try:\n",
    "        num1 = float(input('Introduiu el primer número: '))\n",
    "        num2 = float(input('Introduiu el segon número: '))\n",
    "        \n",
    "        if num1 > num2:\n",
    "            print('El primer número és més gran que el segon')\n",
    "        elif num1 == num2:\n",
    "            print('Els dos números són iguals')\n",
    "        else:\n",
    "            print('El segon número és més gran que el primer')\n",
    "    \n",
    "    except ValueError:\n",
    "        print ('Ep! Intodueix un número vàlid')\n",
    "        \n",
    "        "
   ]
  },
  {
   "cell_type": "code",
   "execution_count": 7,
   "id": "2ca70304",
   "metadata": {},
   "outputs": [
    {
     "name": "stdout",
     "output_type": "stream",
     "text": [
      "Introduiu el primer número: 7.88\n",
      "Introduiu el segon número: 7.87\n",
      "El primer número és més gran que el segon\n"
     ]
    }
   ],
   "source": [
    "# Comprovant els tres casos més un d'error:\n",
    "\n",
    "quinesmesgran()\n"
   ]
  },
  {
   "cell_type": "code",
   "execution_count": 9,
   "id": "8d80e853",
   "metadata": {},
   "outputs": [
    {
     "name": "stdout",
     "output_type": "stream",
     "text": [
      "Introduiu el primer número: 3\n",
      "Introduiu el segon número: 4.25\n",
      "El segon número és més gran que el primer\n"
     ]
    }
   ],
   "source": [
    "quinesmesgran()"
   ]
  },
  {
   "cell_type": "code",
   "execution_count": 8,
   "id": "4bf389d0",
   "metadata": {},
   "outputs": [
    {
     "name": "stdout",
     "output_type": "stream",
     "text": [
      "Introduiu el primer número: 5\n",
      "Introduiu el segon número: 5.0\n",
      "Els dos números són iguals\n"
     ]
    }
   ],
   "source": [
    "quinesmesgran()"
   ]
  },
  {
   "cell_type": "code",
   "execution_count": 10,
   "id": "29b7fc29",
   "metadata": {},
   "outputs": [
    {
     "name": "stdout",
     "output_type": "stream",
     "text": [
      "Introduiu el primer número: 4\n",
      "Introduiu el segon número: b\n",
      "Ep! Intodueix un número vàlid\n"
     ]
    }
   ],
   "source": [
    "quinesmesgran()"
   ]
  },
  {
   "cell_type": "markdown",
   "id": "221ce126",
   "metadata": {},
   "source": [
    "### Exercici 3\n",
    "\n",
    "Crea un programa que et pregunti el teu nom, i et demani un número. Si el número és 0, hauria de mostrar un missatge d’error. En cas contrari, hauria de mostrar el nom repetit tants cops com indiqui el número. Per exemple, “Joan Joan Joan”.\n",
    "\n",
    "\n"
   ]
  },
  {
   "cell_type": "code",
   "execution_count": 11,
   "id": "71863be5",
   "metadata": {},
   "outputs": [],
   "source": [
    "def noms ():\n",
    "    try:\n",
    "        nom = input('Introduiu el teu nom: ')\n",
    "        num = int(input('Introduiu un número enter: '))\n",
    "        \n",
    "        if num > 0 and type(num)==int:\n",
    "                  \n",
    "            print (num*nom)\n",
    "        else:\n",
    "            print('Introduiu un número major que 0!')\n",
    "            \n",
    "    except ValueError:\n",
    "        print ('Ep! Intodueix un número enter major que 0')"
   ]
  },
  {
   "cell_type": "code",
   "execution_count": 12,
   "id": "8b8aa1b7",
   "metadata": {},
   "outputs": [
    {
     "name": "stdout",
     "output_type": "stream",
     "text": [
      "Introduiu el teu nom: Jordi\n",
      "Introduiu un número enter: 5\n",
      "JordiJordiJordiJordiJordi\n"
     ]
    }
   ],
   "source": [
    "noms()"
   ]
  },
  {
   "cell_type": "code",
   "execution_count": 13,
   "id": "971cde6d",
   "metadata": {},
   "outputs": [
    {
     "name": "stdout",
     "output_type": "stream",
     "text": [
      "Introduiu el teu nom: Jordi\n",
      "Introduiu un número enter: 0\n",
      "Introduiu un número major que 0!\n"
     ]
    }
   ],
   "source": [
    "noms()"
   ]
  },
  {
   "cell_type": "code",
   "execution_count": 14,
   "id": "92921fb5",
   "metadata": {},
   "outputs": [
    {
     "name": "stdout",
     "output_type": "stream",
     "text": [
      "Introduiu el teu nom: Jordi\n",
      "Introduiu un número enter: 2.3\n",
      "Ep! Intodueix un número enter major que 0\n"
     ]
    }
   ],
   "source": [
    "noms()"
   ]
  },
  {
   "cell_type": "markdown",
   "id": "0d2302f4",
   "metadata": {},
   "source": [
    "### Exercici 4\n",
    "\n",
    "Crea un programa que donada una llista qualsevol, et digui si és simètrica o no. Si ho és, que et digui quants elements té."
   ]
  },
  {
   "cell_type": "code",
   "execution_count": 56,
   "id": "3b99f85c",
   "metadata": {},
   "outputs": [],
   "source": [
    "def simetrica(llista):\n",
    "    llista_reverse = llista[::-1]\n",
    "    if llista == llista_reverse:\n",
    "        print ('La llista és simètrica i té {} elements'.format(len(llista)))\n",
    "    else:\n",
    "        print('La llista no és simètrica!')"
   ]
  },
  {
   "cell_type": "code",
   "execution_count": 57,
   "id": "4b53eb26",
   "metadata": {},
   "outputs": [],
   "source": [
    "llista = [1,2,3,4,5,4,3,2,1]"
   ]
  },
  {
   "cell_type": "code",
   "execution_count": 58,
   "id": "b28d084e",
   "metadata": {
    "scrolled": false
   },
   "outputs": [
    {
     "name": "stdout",
     "output_type": "stream",
     "text": [
      "La llista és simètrica i té 9 elements\n"
     ]
    }
   ],
   "source": [
    "# Creem i comprovem tres llistes diferents. Una senar, l'altre parell i la última no simètrica.\n",
    "\n",
    "simetrica(llista)"
   ]
  },
  {
   "cell_type": "code",
   "execution_count": 59,
   "id": "1ccfc089",
   "metadata": {},
   "outputs": [],
   "source": [
    "llista2 = [9,8,7,6,5,4,3,2,1,1,2,3,4,5,6,7,8,9]"
   ]
  },
  {
   "cell_type": "code",
   "execution_count": 60,
   "id": "971e4146",
   "metadata": {},
   "outputs": [
    {
     "name": "stdout",
     "output_type": "stream",
     "text": [
      "La llista és simètrica i té 18 elements\n"
     ]
    }
   ],
   "source": [
    "simetrica(llista2)\n",
    "    "
   ]
  },
  {
   "cell_type": "code",
   "execution_count": 61,
   "id": "e0055c7d",
   "metadata": {},
   "outputs": [],
   "source": [
    "llista3 = [2,4,6,3,1,4,6,8,8]"
   ]
  },
  {
   "cell_type": "code",
   "execution_count": 62,
   "id": "dbbac400",
   "metadata": {},
   "outputs": [
    {
     "name": "stdout",
     "output_type": "stream",
     "text": [
      "La llista no és simètrica!\n"
     ]
    }
   ],
   "source": [
    "simetrica(llista3)"
   ]
  },
  {
   "cell_type": "markdown",
   "id": "33e1a346",
   "metadata": {},
   "source": [
    "### Exercici 5\n",
    "\n",
    "Crea un programa que donada una llista, et digui quants números coincideixen amb la seva posició. Per exemple [3,4,2,0,2,3,6] el 2 i el 6 coincideixen."
   ]
  },
  {
   "cell_type": "code",
   "execution_count": 63,
   "id": "a085b3ca",
   "metadata": {},
   "outputs": [],
   "source": [
    "llista4 = [0,4,3,6,4,2,6,7,9,4,3,5,6,8]"
   ]
  },
  {
   "cell_type": "code",
   "execution_count": 64,
   "id": "4caf3626",
   "metadata": {},
   "outputs": [],
   "source": [
    "def coincidencies(llista):\n",
    "    counter = 0\n",
    "    for i in range(len(llista)):\n",
    "        if i == llista[i]:\n",
    "            print ('There is a math : posició {}, número {}'.format(i,llista[i]))\n",
    "            counter += 1\n",
    "       \n",
    "    return counter\n",
    "    \n"
   ]
  },
  {
   "cell_type": "code",
   "execution_count": 67,
   "id": "a8725ad1",
   "metadata": {},
   "outputs": [
    {
     "name": "stdout",
     "output_type": "stream",
     "text": [
      "There is a math : posició 0, número 0\n",
      "There is a math : posició 4, número 4\n",
      "There is a math : posició 6, número 6\n",
      "There is a math : posició 7, número 7\n",
      "Hi ha un total de 4 coincidències\n"
     ]
    }
   ],
   "source": [
    "print('Hi ha un total de {} coincidències'.format(coincidencies(llista4)))       "
   ]
  }
 ],
 "metadata": {
  "kernelspec": {
   "display_name": "Python 3 (ipykernel)",
   "language": "python",
   "name": "python3"
  },
  "language_info": {
   "codemirror_mode": {
    "name": "ipython",
    "version": 3
   },
   "file_extension": ".py",
   "mimetype": "text/x-python",
   "name": "python",
   "nbconvert_exporter": "python",
   "pygments_lexer": "ipython3",
   "version": "3.9.7"
  }
 },
 "nbformat": 4,
 "nbformat_minor": 5
}
