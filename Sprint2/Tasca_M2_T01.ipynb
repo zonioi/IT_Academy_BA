{
 "cells": [
  {
   "cell_type": "markdown",
   "id": "c165a33b",
   "metadata": {},
   "source": [
    "### Sprint 2\n",
    "#### Tasca M2 T01"
   ]
  },
  {
   "cell_type": "markdown",
   "id": "65db436c",
   "metadata": {},
   "source": [
    "### Exercici 1.\n",
    "\n",
    "Crea una llista que agrupi els mesos de l’any en trimestres (1T: gener, febrer i març; 2T: abril, maig, juny...), és a dir, una llista amb 4 llistes dins."
   ]
  },
  {
   "cell_type": "code",
   "execution_count": 1,
   "id": "ea4cca1a",
   "metadata": {},
   "outputs": [
    {
     "name": "stdout",
     "output_type": "stream",
     "text": [
      "<class 'list'>\n",
      "<class 'list'>\n",
      "<class 'list'>\n",
      "<class 'list'>\n",
      "\n",
      "La llista mesos consisteix en una llista (mesos de l'any) de llistes (dividida en trimestres): \n",
      "[['Gener', 'Febrer', 'Març'], ['Abril', 'Maig', 'Juny'], ['Juliol', 'Agost', 'Setembre'], ['Octubre', 'Novembre', 'Dezembre']]\n"
     ]
    }
   ],
   "source": [
    "# Dues maneres de crear llistes: entre 'brackets' i utilitzant el constructor. \n",
    "# Al final comprovem que són del tipus llista i mostrem la llista de llistes exigida a l'exercici.\n",
    "\n",
    "T1 = ['Gener', 'Febrer', 'Març']\n",
    "T2 = list(('Abril', 'Maig', 'Juny'))\n",
    "T3 = ['Juliol', 'Agost', 'Setembre']\n",
    "T4 = list(('Octubre', 'Novembre', 'Dezembre'))\n",
    "\n",
    "mesos = [T1,T2,T3,T4]\n",
    "\n",
    "for x in mesos:\n",
    "    print (type(x))\n",
    "\n",
    "print()\n",
    "print('La llista mesos consisteix en una llista (mesos de l\\'any) de llistes (dividida en trimestres): ')\n",
    "print (mesos)"
   ]
  },
  {
   "cell_type": "code",
   "execution_count": 2,
   "id": "6f9940f1",
   "metadata": {},
   "outputs": [
    {
     "data": {
      "text/plain": [
       "[['Gener', 'Febrer', 'Març'],\n",
       " ['Abril', 'Maig', 'Juny'],\n",
       " ['Juliol', 'Agost', 'Setembre'],\n",
       " ['Octubre', 'Novembre', 'Dezembre']]"
      ]
     },
     "execution_count": 2,
     "metadata": {},
     "output_type": "execute_result"
    }
   ],
   "source": [
    "# Una altre forma de crear la llista de llistes és utilitzant el mètode append.\n",
    "mesos2 = []\n",
    "for i in mesos:\n",
    "    mesos2.append(i)\n",
    "    \n",
    "mesos2"
   ]
  },
  {
   "cell_type": "code",
   "execution_count": 3,
   "id": "d2298832",
   "metadata": {},
   "outputs": [
    {
     "name": "stdout",
     "output_type": "stream",
     "text": [
      "True\n",
      "True\n"
     ]
    }
   ],
   "source": [
    "# I comprovem que mesos2 és del tipus llista i que és igual que mesos.\n",
    "\n",
    "print (type(mesos2)==list) \n",
    "print(mesos2 == mesos) "
   ]
  },
  {
   "cell_type": "markdown",
   "id": "56994a50",
   "metadata": {},
   "source": [
    "### Exercici 2\n",
    "\n",
    "Crea un codi que et permeti accedir a:\n",
    "\n",
    "* El segon mes del primer trimestre.\n",
    "* Els mesos del primer trimestre.\n",
    "* Setembre i octubre.\n"
   ]
  },
  {
   "cell_type": "code",
   "execution_count": 4,
   "id": "9c578edb",
   "metadata": {},
   "outputs": [],
   "source": [
    "import numpy as np"
   ]
  },
  {
   "cell_type": "code",
   "execution_count": 5,
   "id": "b67c8ab7",
   "metadata": {},
   "outputs": [
    {
     "data": {
      "text/plain": [
       "(4, 3)"
      ]
     },
     "execution_count": 5,
     "metadata": {},
     "output_type": "execute_result"
    }
   ],
   "source": [
    "# Amb el shape de numpy podem comprobar que la nostra llista mesos és de (4,3) -> 4 trimestres i 3 mesos\n",
    "np.shape(mesos)"
   ]
  },
  {
   "cell_type": "code",
   "execution_count": 6,
   "id": "8e402aac",
   "metadata": {},
   "outputs": [
    {
     "name": "stdout",
     "output_type": "stream",
     "text": [
      "Febrer\n"
     ]
    }
   ],
   "source": [
    "# Per accedir al segon mes (posició 1) del primer trimestre (posició 0):\n",
    "print(mesos[0][1])"
   ]
  },
  {
   "cell_type": "code",
   "execution_count": 7,
   "id": "215378ac",
   "metadata": {},
   "outputs": [
    {
     "name": "stdout",
     "output_type": "stream",
     "text": [
      "['Gener', 'Febrer', 'Març']\n"
     ]
    }
   ],
   "source": [
    "# Per accedir als mesos del primer trimestre només utilitzarem la primera dimensió:\n",
    "print(mesos[0])"
   ]
  },
  {
   "cell_type": "code",
   "execution_count": 8,
   "id": "e22588fe",
   "metadata": {},
   "outputs": [
    {
     "name": "stdout",
     "output_type": "stream",
     "text": [
      "Setembre Octubre\n"
     ]
    }
   ],
   "source": [
    "# Per accedir a Setembre i Octubre:\n",
    "print(mesos[2][2], mesos[3][0])"
   ]
  },
  {
   "cell_type": "markdown",
   "id": "d7734580",
   "metadata": {},
   "source": [
    "### Exercici 3\n",
    "\n",
    "Crea una llista amb nombres desordenats i respon a les següents preguntes:\n",
    "\n",
    "\n",
    "*    Quants números hi ha?\n",
    "*    Quantes vegades apareix el número 3.\n",
    "*    Quantes vegades apareixen els nombres 3 i 4?\n",
    "*    Quin és el número més gran?\n",
    "*    Quins són els 3 números més petits?\n",
    "*    Quin és el rang d’aquesta llista?\n"
   ]
  },
  {
   "cell_type": "code",
   "execution_count": 9,
   "id": "6e6a01b2",
   "metadata": {},
   "outputs": [],
   "source": [
    "import random"
   ]
  },
  {
   "cell_type": "code",
   "execution_count": 10,
   "id": "c3bd2170",
   "metadata": {},
   "outputs": [
    {
     "name": "stdout",
     "output_type": "stream",
     "text": [
      "[9, 0, 3, 2, 3, 9, 9, 9, 6, 4, 10, 10, 8, 6, 7, 9, 6, 4, 6, 1, 6, 2, 7, 6, 4, 7, 0, 4, 6, 4, 7, 6, 8, 3, 1, 10, 7, 5, 8, 0, 2, 5, 5, 9, 9, 6, 6, 2, 10, 9]\n"
     ]
    }
   ],
   "source": [
    "# A partir d'una llista buida, amd el mètode append generarem una llista de 50 nombres enters entre 0 i 10\n",
    "\n",
    "integers=[]\n",
    "for i in range(50):\n",
    "    res = random.randint(0,10)\n",
    "    integers.append(res)\n",
    "    \n",
    "print(integers)"
   ]
  },
  {
   "cell_type": "code",
   "execution_count": 11,
   "id": "aa91b176",
   "metadata": {},
   "outputs": [],
   "source": [
    "# Una altra forma més directe és utilitzant el randomitzador de numpy i transformant-la en llista\n",
    "\n",
    "integers2 = np.random.randint(0,10,50)\n",
    "integers2 = list(integers2)"
   ]
  },
  {
   "cell_type": "code",
   "execution_count": 12,
   "id": "991ed848",
   "metadata": {},
   "outputs": [
    {
     "name": "stdout",
     "output_type": "stream",
     "text": [
      "Hi ha 50 números\n"
     ]
    }
   ],
   "source": [
    "# Quants números hi ha?\n",
    "\n",
    "n=len(integers)\n",
    "\n",
    "print('Hi ha {} números'.format(n))"
   ]
  },
  {
   "cell_type": "code",
   "execution_count": 13,
   "id": "9eccbbb6",
   "metadata": {},
   "outputs": [
    {
     "name": "stdout",
     "output_type": "stream",
     "text": [
      "El número tres es repeteix 3 vegades\n"
     ]
    }
   ],
   "source": [
    "# Quantes vegades es repeteix el tres?\n",
    "\n",
    "tresos = integers.count(3)\n",
    "\n",
    "print('El número tres es repeteix {} vegades'.format(tresos))"
   ]
  },
  {
   "cell_type": "code",
   "execution_count": 14,
   "id": "6eb86775",
   "metadata": {},
   "outputs": [
    {
     "name": "stdout",
     "output_type": "stream",
     "text": [
      "Els nombres 3 i 4 apareix un total de 8 vegades\n"
     ]
    }
   ],
   "source": [
    "# Quantes vegades apareixen els nombres 3 i 4?\n",
    "\n",
    "tres_quatre = integers.count(3) + integers.count(4)\n",
    "\n",
    "print('Els nombres 3 i 4 apareix un total de {} vegades'.format(tres_quatre))"
   ]
  },
  {
   "cell_type": "code",
   "execution_count": 15,
   "id": "5e70dfab",
   "metadata": {},
   "outputs": [
    {
     "name": "stdout",
     "output_type": "stream",
     "text": [
      "El úmero més gran és el 10\n"
     ]
    }
   ],
   "source": [
    "# Quin és el número més gran?\n",
    "\n",
    "gran = max(integers)\n",
    "\n",
    "print('El úmero més gran és el {}'.format(gran))"
   ]
  },
  {
   "cell_type": "code",
   "execution_count": 16,
   "id": "42c33cc7",
   "metadata": {},
   "outputs": [
    {
     "name": "stdout",
     "output_type": "stream",
     "text": [
      "Els números més petits són [0, 1, 2]\n"
     ]
    }
   ],
   "source": [
    "# Quins son els 3 números més petits?\n",
    "# Eliminarem els duplicats, ordenarem la llista de menor a major i mostrarem els tres primers elements:\n",
    "\n",
    "unique_int = set(integers) # Aquest mètode transforma la llista en set\n",
    "unique_int = list(unique_int) # Tornem a transformar en llista ja ordenada\n",
    "\n",
    "print('Els números més petits són {}'.format(unique_int[0:3]))\n"
   ]
  },
  {
   "cell_type": "code",
   "execution_count": 17,
   "id": "ea04688a",
   "metadata": {},
   "outputs": [
    {
     "name": "stdout",
     "output_type": "stream",
     "text": [
      "El rang de la llista és igual a 10\n"
     ]
    }
   ],
   "source": [
    "# Quin és el rang d'aquesta llista?\n",
    "\n",
    "rang = max(integers) - min(integers)\n",
    "\n",
    "print('El rang de la llista és igual a {}'.format(rang))"
   ]
  },
  {
   "cell_type": "markdown",
   "id": "a3b22ea1",
   "metadata": {},
   "source": [
    "### Exercici 4\n",
    "\n",
    "Crea un diccionari de la següent forma i respon a les preguntes:\n",
    "\n",
    "*   Afegeix alguna fruita més\n",
    "*   Quant han costat les peres en total?\n",
    "*    Quantes fruites hem comprat en total?\n",
    "*    Quina és la fruita més cara?\n"
   ]
  },
  {
   "cell_type": "code",
   "execution_count": 18,
   "id": "4b4a2a90",
   "metadata": {},
   "outputs": [],
   "source": [
    " compra = { \"Pomes\" : {\"Qty\": 5, \"€\": 0.42}, \"Peres\" : {\"Qty\": 3, \"€\": 0.66} } "
   ]
  },
  {
   "cell_type": "code",
   "execution_count": 19,
   "id": "4cba62c6",
   "metadata": {},
   "outputs": [
    {
     "data": {
      "text/plain": [
       "{'Pomes': {'Qty': 5, '€': 0.42},\n",
       " 'Peres': {'Qty': 3, '€': 0.66},\n",
       " 'Pinya': {'Qty': 5, '€': 0.98}}"
      ]
     },
     "execution_count": 19,
     "metadata": {},
     "output_type": "execute_result"
    }
   ],
   "source": [
    "# Afegeix alguna fruita més\n",
    "\n",
    "compra['Pinya'] = {'Qty':5,'€':0.98}\n",
    "compra"
   ]
  },
  {
   "cell_type": "code",
   "execution_count": 20,
   "id": "226e2c81",
   "metadata": {},
   "outputs": [
    {
     "data": {
      "text/plain": [
       "1.98"
      ]
     },
     "execution_count": 20,
     "metadata": {},
     "output_type": "execute_result"
    }
   ],
   "source": [
    "# Quant han costat les peres en total?\n",
    "\n",
    "preu_peres = compra['Peres']['Qty'] * compra['Peres']['€']\n",
    "preu_peres"
   ]
  },
  {
   "cell_type": "code",
   "execution_count": 21,
   "id": "cb39c312",
   "metadata": {},
   "outputs": [
    {
     "name": "stdout",
     "output_type": "stream",
     "text": [
      "Hem comprat un total de 3 tipus de fruita\n",
      "\n",
      "Hem comprat un total de 13 peçes de fruita\n"
     ]
    }
   ],
   "source": [
    "# Quantes fruites hem comprat en total.\n",
    "\n",
    "peces = []\n",
    "for fruites,atributs in compra.items():\n",
    "    qt = atributs['Qty']\n",
    "    peces.append(qt)\n",
    "\n",
    "print('Hem comprat un total de {} tipus de fruita'.format(len(compra.keys())))\n",
    "print('')\n",
    "print('Hem comprat un total de {} peçes de fruita'.format(sum(peces)))"
   ]
  },
  {
   "cell_type": "code",
   "execution_count": 22,
   "id": "ac656041",
   "metadata": {},
   "outputs": [],
   "source": [
    "import pandas as pd"
   ]
  },
  {
   "cell_type": "code",
   "execution_count": 23,
   "id": "09f352f3",
   "metadata": {},
   "outputs": [],
   "source": [
    "# Quina és la fruita més cara?\n",
    "# Per facilitar la operació (?) creem un df amb tres columnes, fruita, preu individual i preu total.\n",
    "# El df està buit i anem incorporant les dates utilitzant un dels mètodes iterables per accedir al diccionari. \n",
    "\n",
    "df = pd.DataFrame(columns=['fruita', 'preu_individual', 'preu_total'])\n",
    "for fruites, atributs in compra.items():\n",
    "    pr = (atributs['€'])\n",
    "    qt = atributs['Qty']\n",
    "   # print(fruites, pr, qt*pr)\n",
    "    df.loc[len(df)] = [fruites, pr, qt*pr]\n",
    "    \n",
    "    \n"
   ]
  },
  {
   "cell_type": "code",
   "execution_count": 24,
   "id": "3fd61259",
   "metadata": {},
   "outputs": [
    {
     "data": {
      "text/html": [
       "<div>\n",
       "<style scoped>\n",
       "    .dataframe tbody tr th:only-of-type {\n",
       "        vertical-align: middle;\n",
       "    }\n",
       "\n",
       "    .dataframe tbody tr th {\n",
       "        vertical-align: top;\n",
       "    }\n",
       "\n",
       "    .dataframe thead th {\n",
       "        text-align: right;\n",
       "    }\n",
       "</style>\n",
       "<table border=\"1\" class=\"dataframe\">\n",
       "  <thead>\n",
       "    <tr style=\"text-align: right;\">\n",
       "      <th></th>\n",
       "      <th>fruita</th>\n",
       "      <th>preu_individual</th>\n",
       "      <th>preu_total</th>\n",
       "    </tr>\n",
       "  </thead>\n",
       "  <tbody>\n",
       "    <tr>\n",
       "      <th>2</th>\n",
       "      <td>Pinya</td>\n",
       "      <td>0.98</td>\n",
       "      <td>4.90</td>\n",
       "    </tr>\n",
       "    <tr>\n",
       "      <th>1</th>\n",
       "      <td>Peres</td>\n",
       "      <td>0.66</td>\n",
       "      <td>1.98</td>\n",
       "    </tr>\n",
       "    <tr>\n",
       "      <th>0</th>\n",
       "      <td>Pomes</td>\n",
       "      <td>0.42</td>\n",
       "      <td>2.10</td>\n",
       "    </tr>\n",
       "  </tbody>\n",
       "</table>\n",
       "</div>"
      ],
      "text/plain": [
       "  fruita  preu_individual  preu_total\n",
       "2  Pinya             0.98        4.90\n",
       "1  Peres             0.66        1.98\n",
       "0  Pomes             0.42        2.10"
      ]
     },
     "execution_count": 24,
     "metadata": {},
     "output_type": "execute_result"
    }
   ],
   "source": [
    "# Observem que, per preu individual la fruita més cara és la pinya, després la pera i finalment la poma.\n",
    "\n",
    "df.sort_values(by=['preu_individual'], ascending=False)"
   ]
  },
  {
   "cell_type": "code",
   "execution_count": 25,
   "id": "ec3bd02c",
   "metadata": {},
   "outputs": [
    {
     "data": {
      "text/html": [
       "<div>\n",
       "<style scoped>\n",
       "    .dataframe tbody tr th:only-of-type {\n",
       "        vertical-align: middle;\n",
       "    }\n",
       "\n",
       "    .dataframe tbody tr th {\n",
       "        vertical-align: top;\n",
       "    }\n",
       "\n",
       "    .dataframe thead th {\n",
       "        text-align: right;\n",
       "    }\n",
       "</style>\n",
       "<table border=\"1\" class=\"dataframe\">\n",
       "  <thead>\n",
       "    <tr style=\"text-align: right;\">\n",
       "      <th></th>\n",
       "      <th>fruita</th>\n",
       "      <th>preu_individual</th>\n",
       "      <th>preu_total</th>\n",
       "    </tr>\n",
       "  </thead>\n",
       "  <tbody>\n",
       "    <tr>\n",
       "      <th>2</th>\n",
       "      <td>Pinya</td>\n",
       "      <td>0.98</td>\n",
       "      <td>4.90</td>\n",
       "    </tr>\n",
       "    <tr>\n",
       "      <th>0</th>\n",
       "      <td>Pomes</td>\n",
       "      <td>0.42</td>\n",
       "      <td>2.10</td>\n",
       "    </tr>\n",
       "    <tr>\n",
       "      <th>1</th>\n",
       "      <td>Peres</td>\n",
       "      <td>0.66</td>\n",
       "      <td>1.98</td>\n",
       "    </tr>\n",
       "  </tbody>\n",
       "</table>\n",
       "</div>"
      ],
      "text/plain": [
       "  fruita  preu_individual  preu_total\n",
       "2  Pinya             0.98        4.90\n",
       "0  Pomes             0.42        2.10\n",
       "1  Peres             0.66        1.98"
      ]
     },
     "execution_count": 25,
     "metadata": {},
     "output_type": "execute_result"
    }
   ],
   "source": [
    "# Ordenant pel preu total, la pinya segueix essent la més cara.\n",
    "#En aquest cas el segon lloc és per la poma i finalment la pera\n",
    "\n",
    "df.sort_values(by=['preu_total'], ascending=False)"
   ]
  }
 ],
 "metadata": {
  "kernelspec": {
   "display_name": "Python 3 (ipykernel)",
   "language": "python",
   "name": "python3"
  },
  "language_info": {
   "codemirror_mode": {
    "name": "ipython",
    "version": 3
   },
   "file_extension": ".py",
   "mimetype": "text/x-python",
   "name": "python",
   "nbconvert_exporter": "python",
   "pygments_lexer": "ipython3",
   "version": "3.9.7"
  }
 },
 "nbformat": 4,
 "nbformat_minor": 5
}
